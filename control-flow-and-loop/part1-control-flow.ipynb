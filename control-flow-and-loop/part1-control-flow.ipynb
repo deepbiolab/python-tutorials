{
 "cells": [
  {
   "cell_type": "markdown",
   "id": "0df86392",
   "metadata": {},
   "source": [
    "# 控制流\n",
    "\n",
    "## 什么是控制流\n",
    "\n",
    "编程语言中的控制流(Control flow)语句用于控制各操作执行的顺序。\n",
    "\n",
    "一段没有控制流的程序的操作顺序应当是这样的：\n",
    "\n",
    "![img](assets/flow.png)\n",
    "\n",
    "但是实际生活中，顺序操作并不总是能够满足我们的需求，我们可能需要对流程中的一些步骤加入控制。\n",
    "\n",
    "举个例子，当我们在揉面团的时候，我们首先加入面粉，再倒入一点点水，之后我们还要 **判断** 目前的加入的水量是否合适，如果过干，需要再加入一点点水，**循环** 这个步骤，直到我们认为面粉和水的配比合适为止。\n",
    "\n",
    "![img](assets/control-flow-2.png)\n",
    "\n",
    "上面的这个流程中就包含了 **判断** 和 **循环** 两种控制流处理。\n",
    "\n",
    "**你将学习以下知识：**\n",
    "\n",
    "- 条件语句\n",
    "- 布尔表达式\n",
    "- For 和 While 循环\n",
    "- Break 和 Continue\n",
    "- Zip 和 Enumerate\n",
    "- 列表推导式\n",
    "\n",
    "----"
   ]
  },
  {
   "cell_type": "markdown",
   "id": "c71d7fbf",
   "metadata": {},
   "source": [
    "## 条件语句\n",
    "\n",
    "### If 语句\n",
    "\n",
    "`if` 语句是是一种条件语句，根据条件为 True 还是 False 运行或执行相关代码。下面是一个简单的示例：\n",
    "\n",
    "```\n",
    "if phone_balance < 5:\n",
    "    phone_balance += 10\n",
    "    bank_balance -= 10\n",
    "```\n",
    "\n",
    "我们来详细讲解下每部分。\n",
    "\n",
    "1. `if` 语句以关键字 `if` 开始，然后是要检查的条件，在此例中是 `phone_balance < 5`，接着是英文冒号。条件用布尔表达式指定，结果为 True 或 False。\n",
    "2. 这行之后是一个条件为 true 时将执行的缩进代码块。在此例中，仅在 `phone_balance` 小于 5 时才执行使 `phone_balance` 递增和使 `bank_balance` 递减的行。如果不小于 5，这个 `if` 块中的代码将被跳过。"
   ]
  },
  {
   "cell_type": "code",
   "execution_count": 3,
   "id": "43fdf074",
   "metadata": {},
   "outputs": [
    {
     "name": "stdout",
     "output_type": "stream",
     "text": [
      "Phone balance: 3, Total Bank balance: 100\n"
     ]
    }
   ],
   "source": [
    "phone_balance = 3      # 手机话费余额，只有3元\n",
    "bank_balance = 100     # 银行账户余额，100元\n",
    "\n",
    "print(f\"Phone balance: {phone_balance}, Total Bank balance: {bank_balance}\")\n",
    "# 输出当前余额：3 100"
   ]
  },
  {
   "cell_type": "code",
   "execution_count": 4,
   "id": "13bb9a87",
   "metadata": {},
   "outputs": [
    {
     "name": "stdout",
     "output_type": "stream",
     "text": [
      "Phone balance: 13, Total Bank balance: 90\n"
     ]
    }
   ],
   "source": [
    "if phone_balance < 5:\n",
    "    phone_balance += 10\n",
    "    bank_balance -= 10\n",
    "print(f\"Phone balance: {phone_balance}, Total Bank balance: {bank_balance}\")"
   ]
  },
  {
   "cell_type": "code",
   "execution_count": 6,
   "id": "3d941300",
   "metadata": {},
   "outputs": [
    {
     "data": {
      "text/plain": [
       "False"
      ]
     },
     "execution_count": 6,
     "metadata": {},
     "output_type": "execute_result"
    }
   ],
   "source": [
    "phone_balance < 5"
   ]
  },
  {
   "cell_type": "code",
   "execution_count": 5,
   "id": "866df607",
   "metadata": {},
   "outputs": [
    {
     "name": "stdout",
     "output_type": "stream",
     "text": [
      "Phone balance: 13, Total Bank balance: 90\n"
     ]
    }
   ],
   "source": [
    "if phone_balance < 5:\n",
    "    phone_balance += 10\n",
    "    bank_balance -= 10\n",
    "print(f\"Phone balance: {phone_balance}, Total Bank balance: {bank_balance}\")"
   ]
  },
  {
   "cell_type": "code",
   "execution_count": 10,
   "id": "92c17729",
   "metadata": {},
   "outputs": [
    {
     "name": "stdout",
     "output_type": "stream",
     "text": [
      "Phone balance: 3, Total Bank balance: 9\n"
     ]
    }
   ],
   "source": [
    "phone_balance = 3      # 手机话费余额，只有3元\n",
    "bank_balance = 9       # 银行账户余额，100元\n",
    "if ((phone_balance < 5) & (bank_balance >= 10)):\n",
    "    phone_balance += 10\n",
    "    bank_balance -= 10\n",
    "print(f\"Phone balance: {phone_balance}, Total Bank balance: {bank_balance}\")"
   ]
  },
  {
   "cell_type": "markdown",
   "id": "3cae29e1",
   "metadata": {},
   "source": [
    "---\n",
    "\n",
    "### If、Elif、Else\n",
    "\n",
    "除了 `if` 条件之外，`if` 语句经常还会使用另外两个可选条件。例如：\n",
    "\n",
    "```\n",
    "if season == 'spring':\n",
    "    print('plant the garden!')\n",
    "elif season == 'summer':\n",
    "    print('water the garden!')\n",
    "elif season == 'fall':\n",
    "    print('harvest the garden!')\n",
    "elif season == 'winter':\n",
    "    print('stay indoors!')\n",
    "else:\n",
    "    print('unrecognized season')\n",
    "```\n",
    "\n",
    "1. `if`：`if` 语句必须始终以 `if` 条件开始，其中包含第一个要检查的条件。如果该条件为 True，Python 将运行这个 `if` 块中的缩进代码，然后跳到 `if` 语句之后的剩余代码。\n",
    "2. `elif`：`elif` 条件用来检查其他条件（前提是 `if` 语句中之前的条件结果为 False）。可以从示例中看出，可以使用多个 `elif` 块处理不同的情形。\n",
    "3. `else`：最后是 `else` 条件，它必须位于 `if` 语句的末尾。该条件语句不需要条件。如果 `if` 语句中所有前面的语句结果都为 False 时，将运行 `else` 块中的代码。"
   ]
  },
  {
   "cell_type": "code",
   "execution_count": 12,
   "id": "281e3fa9",
   "metadata": {},
   "outputs": [
    {
     "name": "stdout",
     "output_type": "stream",
     "text": [
      "unrecognized season\n"
     ]
    }
   ],
   "source": [
    "season = 'springs'\n",
    "\n",
    "if season == 'spring':\n",
    "    print('plant the garden!')\n",
    "elif season == 'summer':\n",
    "    print('water the garden!')\n",
    "elif season == 'fall':\n",
    "    print('harvest the garden!')\n",
    "elif season == 'winter':\n",
    "    print('stay indoors!')\n",
    "else:\n",
    "    print('unrecognized season')"
   ]
  },
  {
   "cell_type": "code",
   "execution_count": 15,
   "id": "bb472d21",
   "metadata": {},
   "outputs": [
    {
     "name": "stdout",
     "output_type": "stream",
     "text": [
      "穿短袖和短裤！\n"
     ]
    }
   ],
   "source": [
    "temperature = 38  # 当前温度（摄氏度）\n",
    "\n",
    "if temperature >= 30:\n",
    "    print(\"穿短袖和短裤！\")\n",
    "elif temperature >= 20:\n",
    "    print(\"穿长袖T恤和牛仔裤！\")\n",
    "elif temperature >= 10:\n",
    "    print(\"穿外套和长裤！\")\n",
    "elif temperature >= 0:\n",
    "    print(\"穿厚外套，记得戴帽子！\")\n",
    "else:\n",
    "    print(\"太冷了，穿羽绒服和围巾！\")\n"
   ]
  },
  {
   "cell_type": "code",
   "execution_count": null,
   "id": "0993a57c",
   "metadata": {},
   "outputs": [],
   "source": [
    "temperature = 38  # 当前温度（摄氏度）\n",
    "\n",
    "if temperature >= 30:\n",
    "    print(\"穿短袖和短裤！\")\n",
    "else:\n",
    "    print(\"太冷了，穿羽绒服和围巾！\")"
   ]
  },
  {
   "cell_type": "markdown",
   "id": "8a820921",
   "metadata": {},
   "source": [
    "---\n",
    "### 缩进\n",
    "\n",
    "一些其他语言使用花括号来表示代码块从哪开始，从哪结束。在 Python 中，我们使用缩进来封装代码块。例如，`if` 语句使用缩进告诉 Python 哪些代码位于不同条件语句里面，哪些代码位于外面。\n",
    "\n",
    "在 Python 中，缩进通常是四个空格一组。请严格遵守该惯例，因为更改缩进会完全更改代码的含义。如果你是 Python 程序员团队的成员，则所有人都必须遵守相同的缩进惯例！"
   ]
  },
  {
   "cell_type": "code",
   "execution_count": 22,
   "id": "8f8b91b1",
   "metadata": {},
   "outputs": [
    {
     "name": "stdout",
     "output_type": "stream",
     "text": [
      "plant the garden!\n",
      "enjoy the flowers!\n"
     ]
    }
   ],
   "source": [
    "season = 'spring'\n",
    "\n",
    "if season == 'spring':\n",
    "    print('plant the garden!')   # 这里用了4个空格\n",
    "    print('enjoy the flowers!')  # 这里用了Tab键\n"
   ]
  },
  {
   "cell_type": "markdown",
   "id": "8fc020c6",
   "metadata": {},
   "source": [
    "---\n",
    "### 练习：条件语句\n",
    "\n",
    "请编写一个 `if` 语句，使竞争者能够根据自己的得分知道获得了哪个奖品，得分存储在整型变量 `points` 中。\n",
    "\n",
    "| **得分**  | **奖励**     | **Prize in English** |\n",
    "| --------- | ------------ | -------------------- |\n",
    "| 1 - 50    | 木质兔子玩偶 | wooden rabbit        |\n",
    "| 51 - 150  | 没有奖品     | no prize             |\n",
    "| 151 - 180 | 极薄薄荷     | wafer-thin mint      |\n",
    "| 181 - 200 | 企鹅         | penguin              |\n",
    "\n",
    "所有的上下限都包含在内，`points` 只能是正整数，最大值为 200。\n",
    "\n",
    "在你的 `if` 语句中，将一个根据 `points` 的值存储相应消息的字符串赋值给 `result` 变量。如果赢得了奖品，消息内容应该是 `\"Congratulations! You won a [prize name]!\"`，“[prize name]”应替换成相应的奖品。如果没有赢得奖品，消息内容应该是 `\"Oh dear, no prize this time.\"`\n",
    "\n"
   ]
  },
  {
   "cell_type": "code",
   "execution_count": 35,
   "id": "655ca112",
   "metadata": {},
   "outputs": [
    {
     "name": "stdout",
     "output_type": "stream",
     "text": [
      "Oh dear, no prize this time.\n"
     ]
    }
   ],
   "source": [
    "points = 100\n",
    "result = ''\n",
    "\n",
    "# 基于分值完成result的赋值\n",
    "if (1 <= points <= 50):\n",
    "    result = 'wooden rabbit'\n",
    "elif (151 <= points <= 180):\n",
    "    result = 'wafer-thin mint'\n",
    "elif (181 <= points <= 200):\n",
    "    result = 'penguin'\n",
    "\n",
    "# 基于result打印信息\n",
    "if (result != ''):\n",
    "    print(f\"Congratulations! You won a {result}!\")\n",
    "else:\n",
    "    print(\"Oh dear, no prize this time.\")"
   ]
  },
  {
   "cell_type": "markdown",
   "id": "ba1ea224",
   "metadata": {},
   "source": [
    "---\n",
    "\n",
    "## 条件布尔表达式\n",
    "\n",
    "`If` 语句有时候会使用更加复杂的条件布尔表达式。可能包括多个比较运算符、逻辑运算符，甚至包括算式。例如：\n",
    "\n",
    "```\n",
    "if 18.5 <= (weight / height**2) < 25:\n",
    "    print(\"BMI is considered 'normal'\")\n",
    "\n",
    "if is_raining and is_sunny:\n",
    "    print(\"Is there a rainbow?\")\n",
    "\n",
    "if (not unsubscribed) and (location == \"USA\" or location == \"CAN\"):\n",
    "    print(\"send email\")\n",
    "```\n",
    "\n",
    "对于非常复杂的条件，你可能需要结合使用 `and`、`or` 和 `not`。使用括号可以使运算符组合更清晰。\n",
    "\n",
    "无论是简单还是复杂的条件，`if` 语句中的条件都必须是结果为 True 或 False 的布尔表达式，该值决定了 `if` 语句中的缩进代码块是否执行。"
   ]
  },
  {
   "cell_type": "code",
   "execution_count": 48,
   "id": "f53db407",
   "metadata": {},
   "outputs": [],
   "source": [
    "# 场景模拟\n",
    "# yes, is lgfv, rating > AA+, bond_term > 5\n",
    "# add to cell\n",
    "\n",
    "candidate_cell = []"
   ]
  },
  {
   "cell_type": "code",
   "execution_count": 49,
   "id": "2a2a5e8b",
   "metadata": {},
   "outputs": [],
   "source": [
    "rating_dic = {'AAA': 6, 'AA+': 5, 'A+': 4, 'A': 3}\n",
    "\n",
    "rating = 6\n",
    "is_lgfv = True # False\n",
    "bond_term = 6\n",
    "\n",
    "candidate = 'bondA'"
   ]
  },
  {
   "cell_type": "code",
   "execution_count": 50,
   "id": "41e7e37e",
   "metadata": {},
   "outputs": [
    {
     "name": "stdout",
     "output_type": "stream",
     "text": [
      "['bondA']\n"
     ]
    }
   ],
   "source": [
    "if ((is_lgfv) & (rating > rating_dic['AA+']) & (bond_term > 5)):\n",
    "\tcandidate_cell.append(candidate)\n",
    "\n",
    "print(candidate_cell)"
   ]
  },
  {
   "cell_type": "markdown",
   "id": "6a7c6bd3",
   "metadata": {},
   "source": [
    "### 正反面示例\n",
    "\n",
    "在为 `if` 语句编写布尔表达式时，需要注意以下几个事项。\n",
    "\n",
    "#### 1. 请勿使用 `True` 或 `False` 作为条件\n",
    "\n",
    "```\n",
    "## Bad example\n",
    "if True:\n",
    "    print(\"This indented code will always get run.\")\n",
    "```\n",
    "\n",
    "虽然“True”是一个有效的布尔表达式，但不是有用的条件，因为它始终为 True，因此缩进代码将始终运行。同样，`if False` 也不应使用，该 `if` 语句之后的语句将从不运行。\n",
    "\n",
    "```\n",
    "## Another bad example\n",
    "if is_cold or not is_cold:\n",
    "    print(\"This indented code will always get run.\")\n",
    "```\n",
    "\n",
    "同样，使用你知道将始终结果为 True 的条件（例如上述示例）也是毫无用途的。布尔表达式只能为 True 或 False，因此 `is_cold` 或 `not is_cold` 将始终为 True，缩进代码将始终运行。\n",
    "\n",
    "#### 2. 在使用逻辑运算符编写表达式时，要谨慎\n",
    "\n",
    "逻辑运算符 `and`、`or` 和 `not` 具有特定的含义，与字面英文意思不太一样。确保布尔表达式的结果和你预期的一样。\n",
    "\n",
    "```\n",
    "## Bad example\n",
    "if weather == \"snow\" or \"rain\":\n",
    "    print(\"Wear boots!\")\n",
    "\n",
    "## Good example\n",
    "weather = 'sunny'\n",
    "if weather in (\"snow\", \"rain\"):\n",
    "    print(\"Wear boots!\")\n",
    "```\n",
    "\n",
    "这段代码在 Python 中是有效的，但不是布尔表达式，虽然读起来像。原因是 `or` 运算符右侧的表达式 `\"rain\"` 不是布尔表达式，它是一个字符串。稍后我们将讨论当你使用非布尔型对象替换布尔表达式时，会发生什么。\n",
    "\n",
    "#### 3. 请勿使用 `== True` 或 `== False` 比较布尔变量\n",
    "\n",
    "这种比较没必要，因为布尔变量本身是布尔表达式。\n",
    "\n",
    "```\n",
    "## Bad example\n",
    "if is_cold == True:\n",
    "    print(\"The weather is cold!\")\n",
    "```\n",
    "\n",
    "这是一个有效的条件，但是我们可以使用变量本身作为条件，使代码更容易读懂，如下所示。\n",
    "\n",
    "```\n",
    "## Good example\n",
    "if is_cold:\n",
    "    print(\"The weather is cold!\")\n",
    "```\n",
    "\n",
    "如果你想检查布尔表达式是否为 False，可以使用 `not` 运算符。"
   ]
  },
  {
   "cell_type": "code",
   "execution_count": 62,
   "id": "e342cbd2",
   "metadata": {},
   "outputs": [
    {
     "name": "stdout",
     "output_type": "stream",
     "text": [
      "1\n"
     ]
    }
   ],
   "source": [
    "if \"rain\": # rain 翻译为 True\n",
    "\tprint(\"1\")\n",
    "else:\n",
    "\tprint(\"0\")"
   ]
  },
  {
   "cell_type": "code",
   "execution_count": 63,
   "id": "5695a79a",
   "metadata": {},
   "outputs": [
    {
     "name": "stdout",
     "output_type": "stream",
     "text": [
      "0\n"
     ]
    }
   ],
   "source": [
    "if \"\": # \"\" 翻译为 False\n",
    "\tprint(\"1\")\n",
    "else:\n",
    "\tprint(\"0\")"
   ]
  },
  {
   "cell_type": "markdown",
   "id": "9df73947",
   "metadata": {},
   "source": [
    "- 翻译为`False`: `0`, `\"\"`, `[], {}...`\n",
    "- 翻译为`True`: 含有值"
   ]
  },
  {
   "cell_type": "code",
   "execution_count": 68,
   "id": "f68e7ba2",
   "metadata": {},
   "outputs": [
    {
     "name": "stdout",
     "output_type": "stream",
     "text": [
      "Wear boots!\n"
     ]
    }
   ],
   "source": [
    "# bad example\n",
    "weather = \"sunny\"\n",
    "# if False or True\n",
    "if weather == \"snow\" or \"rain\":\n",
    "    print(\"Wear boots!\")"
   ]
  },
  {
   "cell_type": "code",
   "execution_count": 71,
   "id": "1bc23ba7",
   "metadata": {},
   "outputs": [
    {
     "name": "stdout",
     "output_type": "stream",
     "text": [
      "Wear boots!\n"
     ]
    }
   ],
   "source": [
    "weather = 'rain'\n",
    "if weather in (\"snow\", \"rain\", \"rainy\"):\n",
    "    print(\"Wear boots!\")"
   ]
  },
  {
   "cell_type": "markdown",
   "id": "de595cea",
   "metadata": {},
   "source": [
    "---\n",
    "\n",
    "### 真假值测试\n",
    "\n",
    "如果我们在`if` 语句中使用非布尔对象代替布尔表达式，Python 将检查其真假值，判断是否运行缩进代码。默认情况下，Python 中对象的真假值被视为 True，除非在文档中被指定为 False。\n",
    "\n",
    "以下是在 Python 中被视为 False 的大多数内置对象：\n",
    "\n",
    "- 定义为 false 的常量：`None` 和 `False`\n",
    "- 任何数字类型的零：`0`、`0.`, `0.0`、`0j`、`Decimal(0)`、`Fraction(0, 1)`\n",
    "- 空序列和空集合：`\"\"`、`()`、`[]`、`{}`、`set()`、`range(0)`\n",
    "\n",
    "示例：\n",
    "\n",
    "```\n",
    "errors = 3\n",
    "if errors:\n",
    "    print(\"You have {} errors to fix!\".format(errors))\n",
    "else:\n",
    "    print(\"No errors to fix!\")\n",
    "```\n",
    "\n",
    "在上述代码中，errors 的真假值为 True，因为它是非零数字，因此输出了错误消息。这是一个编写 `if` 语句的简练方式。"
   ]
  },
  {
   "cell_type": "code",
   "execution_count": 75,
   "id": "23ab23a4",
   "metadata": {},
   "outputs": [
    {
     "name": "stdout",
     "output_type": "stream",
     "text": [
      "You have 3 errors to fix!\n"
     ]
    }
   ],
   "source": [
    "errors = 3\n",
    "if errors:\n",
    "    print(\"You have {} errors to fix!\".format(errors))\n",
    "else:\n",
    "    print(\"No errors to fix!\")"
   ]
  },
  {
   "cell_type": "markdown",
   "id": "4972f252",
   "metadata": {},
   "source": [
    "---\n",
    "\n",
    "### 练习1：条件布尔表达式\n",
    "\n",
    "假设有一个跟踪以下三个变量的空中交通管制程序：`altitude`、`speed` 和 `propulsion`，其中某个飞机的值如下所示。\n",
    "\n",
    "对于以下每个布尔表达式，请判断结果为 True 或 False，并与正确的值相匹配。"
   ]
  },
  {
   "cell_type": "code",
   "execution_count": 76,
   "id": "afb2f676",
   "metadata": {},
   "outputs": [
    {
     "name": "stdout",
     "output_type": "stream",
     "text": [
      "False\n",
      "False\n",
      "True\n",
      "True\n"
     ]
    }
   ],
   "source": [
    "altitude = 10000\n",
    "speed = 250\n",
    "propulsion = \"Propeller\"\n",
    "\n",
    "print(altitude < 1000 and speed > 100) # False\n",
    "\n",
    "print((propulsion == \"Jet\" or propulsion == \"Turboprop\") and speed < 300 and altitude > 20000) # False\n",
    "\n",
    "print(not (speed > 400 and propulsion == \"Propeller\")) # True\n",
    "\n",
    "print((altitude > 500 and speed > 100) or not propulsion == \"Propeller\") # True"
   ]
  },
  {
   "cell_type": "markdown",
   "id": "3bbac675",
   "metadata": {},
   "source": [
    "---\n",
    "### 练习2：使用对象的真假值\n",
    "\n",
    "请使用所学的真假值知识重写上一道练习_哪个奖品_的代码。 先将变量 `prize` 设为 None，然后使用 if 语句将相应的奖品名称重新赋值给 'prize（如果赢得奖品）。接着，使用另一个 `if` 语句根据 `prize` 的真假值将 `result` 赋给正确的字符串。这样可以避免有多个结果赋值。\n",
    "\n",
    "下面是上一道练习的解决方案，供你参考：\n",
    "```\n",
    "points = 174\n",
    "\n",
    "if points <= 50:\n",
    "    result = \"Congratulations! You won a wooden rabbit!\"\n",
    "elif points <= 150:\n",
    "    result = \"Oh dear, no prize this time.\"\n",
    "elif points <= 180:\n",
    "    result = \"Congratulations! You won a wafer-thin mint!\"\n",
    "else:\n",
    "    result = \"Congratulations! You won a penguin!\"\n",
    "\n",
    "print(result)\n",
    "```"
   ]
  },
  {
   "cell_type": "code",
   "execution_count": 83,
   "id": "5d5d4b98",
   "metadata": {},
   "outputs": [
    {
     "name": "stdout",
     "output_type": "stream",
     "text": [
      "Result: wafer-thin mint\n",
      "Congratulations! You won a wafer-thin mint!\n"
     ]
    }
   ],
   "source": [
    "points = 151\n",
    "result = ''\n",
    "\n",
    "# 基于分值完成result的赋值\n",
    "if (1 <= points <= 50):\n",
    "    result = 'wooden rabbit'\n",
    "elif (151 <= points <= 180):\n",
    "    result = 'wafer-thin mint'\n",
    "elif (181 <= points <= 200):\n",
    "    result = 'penguin'\n",
    "\n",
    "# 基于result打印信息: result:  1. \"\" -> False, 2. 有值 -> True\n",
    "if result:\n",
    "    print(f\"Result: {result}\")\n",
    "    print(f\"Congratulations! You won a {result}!\")\n",
    "else:\n",
    "    print(f\"Result: {result}\")\n",
    "    print(\"Oh dear, no prize this time.\")"
   ]
  },
  {
   "cell_type": "markdown",
   "id": "d255f42f",
   "metadata": {},
   "source": [
    "---\n",
    "\n",
    "## For 循环\n",
    "\n",
    "Python 有两种类型的循环：`for` 循环和 `while` 循环。`for` 循环用来遍历**可迭代**对象。\n",
    "\n",
    "__可迭代对象__是每次可以返回其中一个元素的对象，包括字符串、列表和元组等序列类型，以及字典和文件等非序列类型。你还可以使用[迭代器和生成器](https://anandology.com/python-practice-book/iterators.html)定义可迭代对象，我们将在这门课程的稍后阶段详细了解迭代器和生成器。\n",
    "\n",
    "我们来了解下 `for` 循环的各个组成部分。请看下面的示例：\n",
    "\n",
    "```\n",
    "## iterable of cities\n",
    "cities = ['new york city', 'mountain view', 'chicago', 'los angeles']\n",
    "\n",
    "## for loop that iterates over the cities list\n",
    "for city in cities:\n",
    "    print(city.title())\n",
    "```\n",
    "\n",
    "---\n",
    "\n",
    "#### For 循环的组成部分\n",
    "\n",
    "1. 循环的第一行以关键字 `for` 开始，表示这是一个 `for` 循环\n",
    "2. 然后是 `iteration_variable in iterable`，表示正在被遍历的是可迭代的对象，并且用迭代变量表示当前正在被处理的可迭代对象的元素。在此示例中，迭代变量 `city` 在第一次迭代时将是“new york city”，在第二次迭代时将是“mountain view。\n",
    "3. `for` 循环头部始终以英文冒号 `:` 结束。\n",
    "4. `for` 循环头部之后的是在此 `for` 循环的每次迭代时运行的缩进代码块。在此块中，我们可以使用迭代变量访问当前正在被处理的元素的值。\n",
    "\n",
    "你可以随意命名迭代变量。常见模式是为迭代变量和可迭代对象指定相同的名称，但是分别使用单复数形式（例如 'city' 和 'cities）\n",
    "\n",
    "---\n",
    "\n",
    "#### 创建和修改列表\n",
    "\n",
    "除了从列表中提取信息之外，你还可以使用 `for` 循环创建和修改列表。你可以在 `for` 循环的每次迭代时向新列表中添加元素，创建一个列表。如下所示。\n",
    "\n",
    "```\n",
    "## Creating a new list\n",
    "cities = ['new york city', 'mountain view', 'chicago', 'los angeles']\n",
    "capitalized_cities = []\n",
    "\n",
    "for city in cities:\n",
    "    capitalized_cities.append(city.title())\n",
    "```\n",
    "\n",
    "修改列表稍微复杂些，需要使用新的函数：`range()`。\n",
    "\n",
    "`range()` 是一个内置函数，用于创建不可变的数字序列。它有三个参数，必须都为整数。\n",
    "\n",
    "---\n",
    "#### `range(start=0, stop, step=1)`\n",
    "\n",
    "`Start`是该序列的第一个数字，`stop`比该序列的最后一个数字大 1，`step`是该序列中每个数字之间的差。如果未指定的话，`start`默认为 0，`step` 默认为 1（即上述 `=0`和 `=1`）。\n",
    "\n",
    "- 如果你在 `range()` 的括号里指定一个参数，它将用作 'stop' 的值，另外两个参数使用默认值。\n",
    "    **E.g.** `list(range(4))` 返回 `[0, 1, 2, 3]`\n",
    "- 如果你在 `range()` 的括号里指定两个参数，它们将用作 'start' 和 'stop' 的值，'step' 将使用默认值。 **E.g.** `list(range(2, 6))` 返回 `[2, 3, 4, 5]`\n",
    "- 或者你可以为三个参数 'start、stop' 和 'step' 均指定一个值。 **E.g.** `list(range(1, 10, 2))` 返回 `[1, 3, 5, 7, 9]`\n",
    "\n",
    "注意，在这些示例中，我们将 `range` 封装在列表中。因为 `range` 本身的输出是一个 `range` 对象。我们可以通过将其转换为列表或在 `for` 循环中遍历它，查看 `range` 对象中的值集合。\n",
    "\n",
    "我们可以使用 `range` 函数为 `cities` 列表中的每个值生成索引。这样我们便可以使用 `cities[index]` 访问列表中的元素，以便直接修改 `cities` 列表中的值。\n",
    "\n",
    "```\n",
    "cities = ['new york city', 'mountain view', 'chicago', 'los angeles']\n",
    "\n",
    "for index in range(len(cities)):\n",
    "    cities[index] = cities[index].title()\n",
    "```\n",
    "\n",
    "虽然修改列表是 `range` 函数的一个用途，但是并非只有这一个用途。你将经常使用 `range` 和 `for` 循环重复某个操作一定的次数。\n",
    "\n",
    "```\n",
    "for i in range(3):\n",
    "    print(\"Hello!\")\n",
    "```"
   ]
  },
  {
   "cell_type": "markdown",
   "id": "b529d782",
   "metadata": {},
   "source": [
    "---\n",
    "\n",
    "### 练习1：创建用户名\n",
    "\n",
    "写一个遍历 `names` 列表以创建 `usernames` 列表的 `for` 循环。要为每个姓名创建用户名，使姓名全小写并用下划线代替空格。对以下列表运行 `for` 循环：\n",
    "\n",
    "```\n",
    "names = [\"Joey Tribbiani\", \"Monica Geller\", \"Chandler Bing\", \"Phoebe Buffay\"]\n",
    "```\n",
    "\n",
    "应该会创建列表：\n",
    "\n",
    "```\n",
    "usernames = [\"joey_tribbiani\", \"monica_geller\", \"chandler_bing\", \"phoebe_buffay\"]\n",
    "```\n",
    "\n"
   ]
  },
  {
   "cell_type": "code",
   "execution_count": 5,
   "id": "4afdff8d",
   "metadata": {},
   "outputs": [
    {
     "name": "stdout",
     "output_type": "stream",
     "text": [
      "[]\n"
     ]
    }
   ],
   "source": [
    "names = [\"Joey Tribbiani\", \"Monica Geller\", \"Chandler Bing\", \"Phoebe Buffay\"]\n",
    "usernames = []\n",
    "\n",
    "# write your for loop here\n",
    "\n",
    "\n",
    "print(usernames)"
   ]
  },
  {
   "cell_type": "markdown",
   "id": "fc2f5d4a",
   "metadata": {},
   "source": [
    "---\n",
    "\n",
    "### 练习2: 分析代码输出\n",
    "假设我们不想创建新的列表，而是修改 names 列表本身，并编写以下代码。下面的代码有什么作用？"
   ]
  },
  {
   "cell_type": "code",
   "execution_count": null,
   "id": "3fdca2a3",
   "metadata": {},
   "outputs": [],
   "source": [
    "names = [\"Joey Tribbiani\", \"Monica Geller\", \"Chandler Bing\", \"Phoebe Buffay\"]\n",
    "\n",
    "for name in names:\n",
    "    name = name.lower().replace(\" \", \"_\")\n",
    "\n",
    "print(names)"
   ]
  },
  {
   "cell_type": "markdown",
   "id": "0f0f8392",
   "metadata": {},
   "source": [
    "---\n",
    "\n",
    "### 练习3：使用 Range 修改用户名\n",
    "\n",
    "写一个使用 `range()` 遍历 `usernames` 中的职位以修改该列表的 for 循环。和上一道练习一样，将每个姓名改成全小写形式并用下划线代替空格。运行 for 循环后，以下列表\n",
    "\n",
    "```\n",
    "usernames = [\"Joey Tribbiani\", \"Monica Geller\", \"Chandler Bing\", \"Phoebe Buffay\"]\n",
    "```\n",
    "\n",
    "应该更改为：\n",
    "\n",
    "```\n",
    "usernames = [\"joey_tribbiani\", \"monica_geller\", \"chandler_bing\", \"phoebe_buffay\"]\n",
    "```"
   ]
  },
  {
   "cell_type": "code",
   "execution_count": null,
   "id": "3defe540",
   "metadata": {},
   "outputs": [],
   "source": [
    "usernames = [\"Joey Tribbiani\", \"Monica Geller\", \"Chandler Bing\", \"Phoebe Buffay\"]\n",
    "\n",
    "# write your for loop here\n",
    "\n",
    "\n",
    "print(usernames)"
   ]
  },
  {
   "cell_type": "markdown",
   "id": "90d81a9f",
   "metadata": {},
   "source": [
    "---\n",
    "\n",
    "### 练习4：标记计数器\n",
    "\n",
    "写一个 `for` 循环，用于遍历字符串列表 `tokens` 并数一下有多少个 [XML 标记](https://en.wikipedia.org/wiki/XML)。XML 是一种类似于 HTML 的数据语言。如果某个字符串以左尖括号“<”开始并以右尖括号“>”结束，则是 XML 标记。使用 `count` 记录这种标记的数量。\n",
    "\n",
    "你可以假设该字符串列表不包含空字符串。"
   ]
  },
  {
   "cell_type": "code",
   "execution_count": null,
   "id": "5eca3057",
   "metadata": {},
   "outputs": [],
   "source": [
    "tokens = ['<greeting>', 'Hello World!', '</greeting>']\n",
    "count = 0\n",
    "\n",
    "# write your for loop here\n",
    "\n",
    "\n",
    "print(count)"
   ]
  },
  {
   "cell_type": "markdown",
   "id": "71faac2d",
   "metadata": {},
   "source": [
    "---\n",
    "\n",
    "### 练习5：创建 HTML 列表\n",
    "\n",
    "写一个 `for` 循环，用于遍历字符串列表并创建单个字符串 `html_str`，它是一个 HTML 列表。例如，如果列表是 `items = ['first string', 'second string']`，输出 `html_str` 应该会输出：\n",
    "\n",
    "```\n",
    "<ul>\n",
    "<li>first string</li>\n",
    "<li>second string</li>\n",
    "</ul>\n",
    "```\n",
    "\n",
    "即该字符串的第一行应该是起始标记 `<ul>`。然后是源列表中的每个元素各占一行，两边是 `<li>` 和 `</li>` 标记。该字符串的最后一行应该是结束标记 `</ul>`。"
   ]
  },
  {
   "cell_type": "code",
   "execution_count": null,
   "id": "63e3c133",
   "metadata": {},
   "outputs": [],
   "source": [
    "items = ['first string', 'second string']\n",
    "html_str = \"<ul>\\n\"  # \"\\ n\" is the character that marks the end of the line, it does\n",
    "                     # the characters that are after it in html_str are on the next line\n",
    "\n",
    "# write your code here\n",
    "\n",
    "\n",
    "print(html_str)"
   ]
  },
  {
   "cell_type": "markdown",
   "id": "249ea3d5",
   "metadata": {},
   "source": [
    "---\n",
    "\n",
    "## `While` 循环\n",
    "\n",
    "`For` 循环是一种“有限迭代”，意味着循环主体将运行预定义的次数。这与“无限迭代”循环不同，无限迭代循环是指循环重复未知次数，并在满足某个条件时结束，`while` 循环正是这种情况。下面是一个 `while` 循环的示例。\n",
    "\n",
    "```\n",
    "card_deck = [4, 11, 8, 5, 13, 2, 8, 10]\n",
    "hand = []\n",
    "\n",
    "## adds the last element of the card_deck list to the hand list\n",
    "## until the values in hand add up to 17 or more\n",
    "while sum(hand)  <= 17:\n",
    "    hand.append(card_deck.pop())\n",
    "```\n",
    "\n",
    "这个示例包含两个函数。`sum` 返回列表中的元素之和，`pop` 是一个列表方法，它会从列表中删除最后一个元素并返回该元素。\n",
    "\n",
    "---\n",
    "\n",
    "#### `While` 循环的组成部分\n",
    "\n",
    "1. 第一行以关键字 `while` 开始，表示这是一个 `while` 循环。\n",
    "2. 然后是要检查的条件。在此示例中是 `sum(hand) <= 17`。\n",
    "3. `while` 循环头部始终以冒号 `:` 结束。\n",
    "4. 该头部之后的缩进部分是 `while` 循环的主体。如果 `while` 循环的条件为 true，该循环的主体将被执行。每次运行循环主体时，条件将被重新评估。这个检查条件然后运行循环的流程将重复，直到该表达式变成 false。\n",
    "\n",
    "循环的缩进主体应该至少修改测试表达式中的一个变量。如果测试表达式的值始终不变，就会变成无限循环！"
   ]
  },
  {
   "cell_type": "markdown",
   "id": "cb510245",
   "metadata": {},
   "source": [
    "---\n",
    "\n",
    "### 练习1：最接近的平方数\n",
    "\n",
    "写一个 `while` 循环，用于计算比整数 `limit` 小的最大平方数，并将其存储在变量 `nearest_square` 中。平方数是整数乘以自己后的积，例如 36 是一个平方数，因为它等于 6*6。\n",
    "\n",
    "例如，如果 `limit` 是 40，你的代码应该将 `nearest_square` 设为 36。"
   ]
  },
  {
   "cell_type": "code",
   "execution_count": null,
   "id": "5eeea176",
   "metadata": {},
   "outputs": [],
   "source": [
    "limit = 40\n",
    "\n",
    "# write your while loop here\n",
    "\n",
    "\n",
    "print(nearest_square)"
   ]
  },
  {
   "cell_type": "markdown",
   "id": "27f4dc94",
   "metadata": {},
   "source": [
    "---\n",
    "\n",
    "### Break、Continue\n",
    "\n",
    "有时候我们需要更精准地控制何时循环应该结束，或者跳过某个迭代。在这些情况下，我们使用关键字 `break` 和 `continue`，这两个关键字可以用于 `for` 和 `while` 循环。\n",
    "\n",
    "- `break` 使循环终止\n",
    "- `continue` 跳过循环的一次迭代\n",
    "\n"
   ]
  },
  {
   "cell_type": "markdown",
   "id": "6db88148",
   "metadata": {},
   "source": [
    "---\n",
    "\n",
    "### 练习2：截断字符串\n",
    "\n",
    "用 `break` 语句写一个循环，用于创建刚好长 140 个字符的字符串 `news_ticker`。你应该通过添加 `headlines` 列表中的新闻标题创建新闻提醒，在每个新闻标题之间插入空格。如果有必要的话，将最后一个新闻标题从中间截断，使 `news_ticker` 刚好长 140 个字符。\n",
    "\n",
    "注意，`break` 同时适用于 `for` 和 `while` 循环。使用你认为最合适的循环。考虑向代码中添加 `print` 语句以帮助你解决 bug。\n",
    "\n"
   ]
  },
  {
   "cell_type": "code",
   "execution_count": null,
   "id": "da453679",
   "metadata": {},
   "outputs": [],
   "source": [
    "# HINT: modify the headlines list to verify your loop works with different inputs\n",
    "headlines = [\"Local Bear Eaten by Man\",\n",
    "             \"Legislature Announces New Laws\",\n",
    "             \"Peasant Discovers Violence Inherent in System\",\n",
    "             \"Cat Rescues Fireman Stuck in Tree\",\n",
    "             \"Brave Knight Runs Away\",\n",
    "             \"Papperbok Review: Totally Triffic\"]\n",
    "\n",
    "news_ticker = \"\"\n",
    "# write your loop here\n",
    "\n",
    "\n",
    "print(news_ticker)"
   ]
  },
  {
   "cell_type": "markdown",
   "id": "e6afef94",
   "metadata": {},
   "source": []
  }
 ],
 "metadata": {
  "kernelspec": {
   "display_name": "python101",
   "language": "python",
   "name": "python3"
  },
  "language_info": {
   "codemirror_mode": {
    "name": "ipython",
    "version": 3
   },
   "file_extension": ".py",
   "mimetype": "text/x-python",
   "name": "python",
   "nbconvert_exporter": "python",
   "pygments_lexer": "ipython3",
   "version": "3.10.18"
  }
 },
 "nbformat": 4,
 "nbformat_minor": 5
}
