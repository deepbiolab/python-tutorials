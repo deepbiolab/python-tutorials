{
 "cells": [
  {
   "cell_type": "code",
   "execution_count": 33,
   "id": "f986163d-59db-4461-9cd2-8b6d9717e0dd",
   "metadata": {},
   "outputs": [],
   "source": [
    "test = {\"one\": 1,\n",
    "        2: \"two\",\n",
    "        3: \"three\"}"
   ]
  },
  {
   "cell_type": "code",
   "execution_count": 34,
   "id": "46221583-37ae-456f-aa35-b096d2c6e2e5",
   "metadata": {},
   "outputs": [],
   "source": [
    "value = test.get(4, None)"
   ]
  },
  {
   "cell_type": "code",
   "execution_count": 37,
   "id": "4b823063-d01a-4fcc-add3-0260615a4460",
   "metadata": {},
   "outputs": [
    {
     "data": {
      "text/plain": [
       "True"
      ]
     },
     "execution_count": 37,
     "metadata": {},
     "output_type": "execute_result"
    }
   ],
   "source": [
    "value is None"
   ]
  },
  {
   "cell_type": "code",
   "execution_count": 38,
   "id": "6d176467-c259-470b-8767-06290f75cb00",
   "metadata": {},
   "outputs": [],
   "source": [
    "a = [1, 2, 3]"
   ]
  },
  {
   "cell_type": "code",
   "execution_count": 39,
   "id": "515f2c5f-8693-49c8-aaba-d46f39c08c6b",
   "metadata": {},
   "outputs": [],
   "source": [
    "b = a"
   ]
  },
  {
   "cell_type": "code",
   "execution_count": 40,
   "id": "41fd1e87-a79e-49ef-bf73-2697184dc581",
   "metadata": {},
   "outputs": [],
   "source": [
    "c = [1, 2, 3]"
   ]
  },
  {
   "cell_type": "code",
   "execution_count": 44,
   "id": "4c0542f8-2ca2-44f3-8334-86b0035c5d26",
   "metadata": {},
   "outputs": [
    {
     "data": {
      "text/plain": [
       "False"
      ]
     },
     "execution_count": 44,
     "metadata": {},
     "output_type": "execute_result"
    }
   ],
   "source": [
    "a is c"
   ]
  },
  {
   "cell_type": "code",
   "execution_count": 52,
   "id": "02e7e15e-9031-4b31-a256-1fd2013310e1",
   "metadata": {},
   "outputs": [],
   "source": [
    "animals = {\n",
    "'dogs': [20, 10, 15, 8, 32, 15], \n",
    "'cats': [3,4,2,8,2,4], \n",
    "'rabbits': [2, 3, 3], \n",
    "'fish': [0.3, 0.5, 0.8, 0.3, 1]}"
   ]
  },
  {
   "cell_type": "code",
   "execution_count": 68,
   "id": "7306d515-970a-4e4e-808d-a35659f743e7",
   "metadata": {},
   "outputs": [
    {
     "name": "stdout",
     "output_type": "stream",
     "text": [
      "[20, 10, 15, 8, 32, 15]\n",
      "8\n",
      "No Exist\n",
      "[0.3, 0.5, 0.8, 0.3, 1]\n"
     ]
    }
   ],
   "source": [
    "print(animals['dogs']) # run line 1, sucucess\n",
    "print(animals['dogs'][3]) # run line 2\n",
    "print(animals.get('lion', 'No Exist'))\n",
    "print(animals['fish'])"
   ]
  },
  {
   "cell_type": "code",
   "execution_count": 59,
   "id": "21988bc5-904d-410d-90eb-3d4d81df4c8a",
   "metadata": {},
   "outputs": [
    {
     "data": {
      "text/plain": [
       "str"
      ]
     },
     "execution_count": 59,
     "metadata": {},
     "output_type": "execute_result"
    }
   ],
   "source": [
    "# 字典中键的类型\n",
    "type(list(animals.keys())[0])"
   ]
  },
  {
   "cell_type": "code",
   "execution_count": 61,
   "id": "88d99321-4af0-4204-915d-c6d66143da2e",
   "metadata": {},
   "outputs": [
    {
     "data": {
      "text/plain": [
       "list"
      ]
     },
     "execution_count": 61,
     "metadata": {},
     "output_type": "execute_result"
    }
   ],
   "source": [
    "# 字典中值的数据类型\n",
    "type(animals['dogs'])"
   ]
  },
  {
   "cell_type": "code",
   "execution_count": 62,
   "id": "136208f5-e49d-4650-92dd-525f64ae433a",
   "metadata": {},
   "outputs": [
    {
     "data": {
      "text/plain": [
       "[20, 10, 15, 8, 32, 15]"
      ]
     },
     "execution_count": 62,
     "metadata": {},
     "output_type": "execute_result"
    }
   ],
   "source": [
    "# animals['dogs']的结果\n",
    "animals['dogs']"
   ]
  },
  {
   "cell_type": "code",
   "execution_count": 63,
   "id": "15c845c8-0c6b-43e1-9106-52e94adfe5cc",
   "metadata": {},
   "outputs": [
    {
     "data": {
      "text/plain": [
       "8"
      ]
     },
     "execution_count": 63,
     "metadata": {},
     "output_type": "execute_result"
    }
   ],
   "source": [
    "# animals['dogs'][3]的结果\n",
    "animals['dogs'][3]"
   ]
  },
  {
   "cell_type": "code",
   "execution_count": 64,
   "id": "eaa53d41-d9ba-4bc1-ac3a-f1cf33db17ea",
   "metadata": {},
   "outputs": [
    {
     "data": {
      "text/plain": [
       "[0.3, 0.5, 0.8, 0.3, 1]"
      ]
     },
     "execution_count": 64,
     "metadata": {},
     "output_type": "execute_result"
    }
   ],
   "source": [
    "# animals['fish']的结果\n",
    "animals['fish']"
   ]
  },
  {
   "cell_type": "code",
   "execution_count": 78,
   "id": "3a3a22e4-7132-4e6d-bcee-4b8ea2f44c1e",
   "metadata": {},
   "outputs": [],
   "source": [
    "# 如何新增一个key\n",
    "animals['dogs'] = [0, 1, 2]"
   ]
  },
  {
   "cell_type": "code",
   "execution_count": 79,
   "id": "89022fab-f5dc-4890-a02c-874c922ecf3c",
   "metadata": {},
   "outputs": [
    {
     "data": {
      "text/plain": [
       "{'dogs': [0, 1, 2],\n",
       " 'cats': [3, 4, 2, 8, 2, 4],\n",
       " 'rabbits': [2, 3, 3],\n",
       " 'fish': [0.3, 0.5, 0.8, 0.3, 1],\n",
       " 'lion': [0, 1, 2]}"
      ]
     },
     "execution_count": 79,
     "metadata": {},
     "output_type": "execute_result"
    }
   ],
   "source": [
    "animals"
   ]
  },
  {
   "cell_type": "code",
   "execution_count": 83,
   "id": "c31d00ff-3d2f-4101-82a5-c401f9a77caa",
   "metadata": {},
   "outputs": [],
   "source": [
    "animals['dogs'].append(3)"
   ]
  },
  {
   "cell_type": "code",
   "execution_count": 84,
   "id": "a989101b-c77f-4170-a96c-8d4b2be38956",
   "metadata": {},
   "outputs": [
    {
     "data": {
      "text/plain": [
       "{'dogs': [0, 1, 2, 3],\n",
       " 'cats': [3, 4, 2, 8, 2, 4],\n",
       " 'rabbits': [2, 3, 3],\n",
       " 'fish': [0.3, 0.5, 0.8, 0.3, 1],\n",
       " 'lion': [0, 1, 2]}"
      ]
     },
     "execution_count": 84,
     "metadata": {},
     "output_type": "execute_result"
    }
   ],
   "source": [
    "animals"
   ]
  },
  {
   "attachments": {
    "abde417a-b8fb-4cc8-b004-b31bbc6b706b.png": {
     "image/png": "[encoded data removed]"
    }
   },
   "cell_type": "markdown",
   "id": "c331fe06-5a82-4ef5-a104-1d27dab0cc55",
   "metadata": {},
   "source": [
    "![image.png](attachment:abde417a-b8fb-4cc8-b004-b31bbc6b706b.png)"
   ]
  },
  {
   "cell_type": "code",
   "execution_count": 85,
   "id": "1bdd05ec-adcb-4e05-bde2-7a1631cbe682",
   "metadata": {},
   "outputs": [],
   "source": [
    "elements = {'hydrogen': {'number': 1, 'weight': 1.00794, 'symbol': 'H'},\n",
    "            'helium': {'number': 2, 'weight': 4.002602, 'symbol': 'He'}}\n",
    "\n",
    "# todo: Add an 'is_noble_gas' entry to the hydrogen and helium dictionaries\n",
    "# hint: helium is a noble gas, hydrogen isn't\n"
   ]
  },
  {
   "cell_type": "code",
   "execution_count": 88,
   "id": "e8284d72-db20-462b-9c59-c2994a999412",
   "metadata": {},
   "outputs": [
    {
     "ename": "KeyError",
     "evalue": "'is_noble_gas'",
     "output_type": "error",
     "traceback": [
      "\u001b[0;31m---------------------------------------------------------------------------\u001b[0m",
      "\u001b[0;31mKeyError\u001b[0m                                  Traceback (most recent call last)",
      "Cell \u001b[0;32mIn[88], line 1\u001b[0m\n\u001b[0;32m----> 1\u001b[0m \u001b[38;5;28mprint\u001b[39m(\u001b[43melements\u001b[49m\u001b[43m[\u001b[49m\u001b[38;5;124;43m'\u001b[39;49m\u001b[38;5;124;43mhydrogen\u001b[39;49m\u001b[38;5;124;43m'\u001b[39;49m\u001b[43m]\u001b[49m\u001b[43m[\u001b[49m\u001b[38;5;124;43m'\u001b[39;49m\u001b[38;5;124;43mis_noble_gas\u001b[39;49m\u001b[38;5;124;43m'\u001b[39;49m\u001b[43m]\u001b[49m)\n",
      "\u001b[0;31mKeyError\u001b[0m: 'is_noble_gas'"
     ]
    }
   ],
   "source": [
    "print(elements['hydrogen']['is_noble_gas'])"
   ]
  },
  {
   "cell_type": "code",
   "execution_count": 89,
   "id": "39f6ee88-2c29-4bba-a613-ad5f5d94dd97",
   "metadata": {},
   "outputs": [],
   "source": [
    "elements['hydrogen']['is_noble_gas'] = False"
   ]
  },
  {
   "cell_type": "code",
   "execution_count": 90,
   "id": "2f429f92-da02-471f-ab43-ff1916390c18",
   "metadata": {},
   "outputs": [
    {
     "name": "stdout",
     "output_type": "stream",
     "text": [
      "False\n"
     ]
    }
   ],
   "source": [
    "print(elements['hydrogen']['is_noble_gas'])"
   ]
  },
  {
   "cell_type": "code",
   "execution_count": 91,
   "id": "7315b9bc-8ef6-47c5-b6c7-f1dc2b473e2c",
   "metadata": {},
   "outputs": [],
   "source": [
    "elements['helium']['is_noble_gas'] = True"
   ]
  },
  {
   "cell_type": "code",
   "execution_count": 92,
   "id": "588c0456-ab48-4b76-99b4-42f422f14f5f",
   "metadata": {},
   "outputs": [
    {
     "name": "stdout",
     "output_type": "stream",
     "text": [
      "True\n"
     ]
    }
   ],
   "source": [
    "print(elements['helium']['is_noble_gas'])"
   ]
  },
  {
   "cell_type": "code",
   "execution_count": 93,
   "id": "f9023748-9aaa-4019-b175-1a727500f497",
   "metadata": {},
   "outputs": [],
   "source": [
    "elements['oxygen'] = {'number': 8, 'weight': 16, 'symbol': 'O'}"
   ]
  },
  {
   "cell_type": "code",
   "execution_count": 94,
   "id": "91dbf645-666d-45b1-945a-3ed5615ac551",
   "metadata": {},
   "outputs": [
    {
     "data": {
      "text/plain": [
       "{'hydrogen': {'number': 1,\n",
       "  'weight': 1.00794,\n",
       "  'symbol': 'H',\n",
       "  'is_noble_gas': False},\n",
       " 'helium': {'number': 2,\n",
       "  'weight': 4.002602,\n",
       "  'symbol': 'He',\n",
       "  'is_noble_gas': True},\n",
       " 'oxygen': {'number': 8, 'weight': 16, 'symbol': 'O'}}"
      ]
     },
     "execution_count": 94,
     "metadata": {},
     "output_type": "execute_result"
    }
   ],
   "source": [
    "elements"
   ]
  },
  {
   "cell_type": "code",
   "execution_count": 114,
   "id": "213f6574-58e0-4583-8075-bf84f7305c59",
   "metadata": {},
   "outputs": [],
   "source": [
    "a = {1: \"one\", 2: \"two\", 3: \"three\"}"
   ]
  },
  {
   "cell_type": "code",
   "execution_count": 109,
   "id": "01fad755-42bf-4e5e-8e6a-43a40dd1154e",
   "metadata": {},
   "outputs": [
    {
     "data": {
      "text/plain": [
       "dict_items([(1, 'one'), (2, 'two'), (3, 'three')])"
      ]
     },
     "execution_count": 109,
     "metadata": {},
     "output_type": "execute_result"
    }
   ],
   "source": [
    "a.items()"
   ]
  },
  {
   "cell_type": "code",
   "execution_count": 110,
   "id": "15225045-e968-4894-ad7b-ed452b6616e6",
   "metadata": {},
   "outputs": [
    {
     "data": {
      "text/plain": [
       "dict_keys([1, 2, 3])"
      ]
     },
     "execution_count": 110,
     "metadata": {},
     "output_type": "execute_result"
    }
   ],
   "source": [
    "a.keys()"
   ]
  },
  {
   "cell_type": "code",
   "execution_count": 111,
   "id": "542eff07-2aaf-41aa-877c-b137b3d4ac51",
   "metadata": {},
   "outputs": [
    {
     "data": {
      "text/plain": [
       "dict_values(['one', 'two', 'three'])"
      ]
     },
     "execution_count": 111,
     "metadata": {},
     "output_type": "execute_result"
    }
   ],
   "source": [
    "a.values()"
   ]
  },
  {
   "cell_type": "code",
   "execution_count": 117,
   "id": "56675d76-266f-4049-b4eb-7d2c7b760483",
   "metadata": {},
   "outputs": [
    {
     "data": {
      "text/plain": [
       "'one'"
      ]
     },
     "execution_count": 117,
     "metadata": {},
     "output_type": "execute_result"
    }
   ],
   "source": [
    "a.pop(1)"
   ]
  },
  {
   "cell_type": "code",
   "execution_count": 115,
   "id": "7cbb459e-25ce-4d42-846d-adfe068c4ed6",
   "metadata": {},
   "outputs": [
    {
     "data": {
      "text/plain": [
       "'one'"
      ]
     },
     "execution_count": 115,
     "metadata": {},
     "output_type": "execute_result"
    }
   ],
   "source": [
    "a[1]"
   ]
  },
  {
   "cell_type": "code",
   "execution_count": 120,
   "id": "da193516-469d-4797-8931-0b9c775e8db1",
   "metadata": {},
   "outputs": [],
   "source": [
    "a.update"
   ]
  },
  {
   "cell_type": "code",
   "execution_count": 121,
   "id": "99f76742-7331-4896-bcc5-185bd1d936cc",
   "metadata": {},
   "outputs": [
    {
     "data": {
      "text/plain": [
       "{2: 'two', 3: 'three'}"
      ]
     },
     "execution_count": 121,
     "metadata": {},
     "output_type": "execute_result"
    }
   ],
   "source": [
    "a"
   ]
  },
  {
   "cell_type": "code",
   "execution_count": 128,
   "id": "784f331d-125b-4fb9-a52f-aea60b1a5352",
   "metadata": {},
   "outputs": [],
   "source": [
    "elements = {'hydrogen': {'number': 1, 'weight': 1.00794, 'symbol': 'H'},\n",
    "            'helium': {'number': 2, 'weight': 4.002602, 'symbol': 'He'}}"
   ]
  },
  {
   "cell_type": "code",
   "execution_count": 129,
   "id": "e06a37e8-ce4e-41f1-9510-2dff3fdf55ff",
   "metadata": {},
   "outputs": [],
   "source": [
    "oxygen = {'oxygen': {'number': 8, 'weight': 16, 'symbol': 'O'}}"
   ]
  },
  {
   "cell_type": "code",
   "execution_count": 130,
   "id": "46ca8831-8d93-485e-9477-492cdaa1711b",
   "metadata": {},
   "outputs": [],
   "source": [
    "elements.update(oxygen)"
   ]
  },
  {
   "cell_type": "code",
   "execution_count": 131,
   "id": "4a46bc8c-319f-446a-83f1-697e6f0febe0",
   "metadata": {},
   "outputs": [
    {
     "data": {
      "text/plain": [
       "{'hydrogen': {'number': 1, 'weight': 1.00794, 'symbol': 'H'},\n",
       " 'helium': {'number': 2, 'weight': 4.002602, 'symbol': 'He'},\n",
       " 'oxygen': {'number': 8, 'weight': 16, 'symbol': 'O'}}"
      ]
     },
     "execution_count": 131,
     "metadata": {},
     "output_type": "execute_result"
    }
   ],
   "source": [
    "elements"
   ]
  },
  {
   "cell_type": "code",
   "execution_count": 132,
   "id": "2f159d0a-391b-4047-acd5-28a20c54ef9a",
   "metadata": {},
   "outputs": [],
   "source": [
    "elements1 = elements.copy()"
   ]
  },
  {
   "cell_type": "code",
   "execution_count": 134,
   "id": "fd30f0f8-c17d-4096-b026-6df9b08c5a01",
   "metadata": {},
   "outputs": [
    {
     "data": {
      "text/plain": [
       "False"
      ]
     },
     "execution_count": 134,
     "metadata": {},
     "output_type": "execute_result"
    }
   ],
   "source": [
    "elements1 is elements"
   ]
  },
  {
   "cell_type": "code",
   "execution_count": null,
   "id": "779864fb-2970-48c2-b748-f3c068d1f2f0",
   "metadata": {},
   "outputs": [],
   "source": []
  }
 ],
 "metadata": {
  "kernelspec": {
   "display_name": "Python 3 (ipykernel)",
   "language": "python",
   "name": "python3"
  },
  "language_info": {
   "codemirror_mode": {
    "name": "ipython",
    "version": 3
   },
   "file_extension": ".py",
   "mimetype": "text/x-python",
   "name": "python",
   "nbconvert_exporter": "python",
   "pygments_lexer": "ipython3",
   "version": "3.10.18"
  }
 },
 "nbformat": 4,
 "nbformat_minor": 5
}
