{
 "cells": [
  {
   "cell_type": "code",
   "execution_count": null,
   "id": "878ac13d",
   "metadata": {},
   "outputs": [
    {
     "name": "stdout",
     "output_type": "stream",
     "text": [
      "0\n",
      "AAA\n",
      "1\n",
      "BBB\n",
      "2\n",
      "CCC\n",
      "0 AAA\n",
      "1 BBB\n",
      "2 CCC\n"
     ]
    }
   ],
   "source": [
    "names = ['AAA', 'BBB', 'CCC']\n",
    "projs = ['P1', 'P2', 'P3']\n",
    "\n",
    "names_with_projs = [('AAA', 'P1'), ('BBB', 'P2'), ('CCC', 'P3')]\n",
    "\n",
    "for i in range(len(names)):\n",
    "    print(i)\n",
    "    print(names[i])\n",
    "\n",
    "for i, name in enumerate(names):\n",
    "    print(i, name)\n"
   ]
  },
  {
   "cell_type": "code",
   "execution_count": null,
   "id": "6f535f83",
   "metadata": {},
   "outputs": [
    {
     "name": "stdout",
     "output_type": "stream",
     "text": [
      "Name=AAA | Project=P1\n",
      "Name=BBB | Project=P2\n",
      "Name=CCC | Project=P3\n"
     ]
    }
   ],
   "source": [
    "for info in list(zip(names, projs)):\n",
    "    print(f\"Name={info[0]} | Project={info[1]}\")"
   ]
  },
  {
   "cell_type": "code",
   "execution_count": null,
   "id": "363b6f2d",
   "metadata": {},
   "outputs": [
    {
     "name": "stdout",
     "output_type": "stream",
     "text": [
      "Name=AAA | Project=P1\n",
      "Name=BBB | Project=P2\n",
      "Name=CCC | Project=P3\n"
     ]
    }
   ],
   "source": [
    "for name, proj in list(zip(names, projs)):\n",
    "    print(f\"Name={name} | Project={proj}\")"
   ]
  },
  {
   "cell_type": "code",
   "execution_count": null,
   "id": "809ed936",
   "metadata": {},
   "outputs": [
    {
     "name": "stdout",
     "output_type": "stream",
     "text": [
      "Name=AAA | Project=P1\n",
      "Name=BBB | Project=P2\n",
      "Name=CCC | Project=P3\n"
     ]
    }
   ],
   "source": [
    "for name, proj in zip(names, projs):\n",
    "    print(f\"Name={name} | Project={proj}\")"
   ]
  },
  {
   "cell_type": "code",
   "execution_count": 13,
   "id": "b3b0ec2a",
   "metadata": {},
   "outputs": [],
   "source": [
    "tuple_a = ('AAA', 'P1')\n",
    "name, proj = tuple_a"
   ]
  },
  {
   "cell_type": "code",
   "execution_count": null,
   "id": "c5c66676",
   "metadata": {},
   "outputs": [
    {
     "name": "stdout",
     "output_type": "stream",
     "text": [
      "AAA|P1|1yr\n",
      "BBB|P2|2yr\n",
      "CCC|P3|0.5yr\n"
     ]
    }
   ],
   "source": [
    "names = ['AAA', 'BBB', 'CCC']\n",
    "projs = ['P1', 'P2', 'P3']\n",
    "periods = ['1yr', '2yr', '0.5yr']\n",
    "\n",
    "for name, proj, period in zip(names, projs, periods):\n",
    "    print(f\"{name}|{proj}|{period}\")"
   ]
  },
  {
   "cell_type": "markdown",
   "id": "619e192a",
   "metadata": {},
   "source": [
    "## Zip 和 Enumerate\n",
    "\n",
    "`zip` 和 `enumerate` 是实用的内置函数，可以在处理循环时用到。\n",
    "\n",
    "#### Zip\n",
    "\n",
    "`zip` 返回一个将多个可迭代对象组合成一个元组序列的迭代器。每个元组都包含所有可迭代对象中该位置的元素。例如，\n",
    "\n",
    "`list(zip(['a', 'b', 'c'], [1, 2, 3]))` 将输出 `[('a', 1), ('b', 2), ('c', 3)]`.\n",
    "\n",
    "正如 `range()` 一样，我们需要将其转换为列表或使用循环进行遍历以查看其中的元素。\n",
    "\n",
    "你可以如下所示地用 `for` 循环拆分每个元组。\n",
    "\n",
    "```\n",
    "letters = ['a', 'b', 'c']\n",
    "nums = [1, 2, 3]\n",
    "\n",
    "for letter, num in zip(letters, nums):\n",
    "    print(\"{}: {}\".format(letter, num))\n",
    "```\n",
    "\n",
    "除了可以将两个列表组合到一起之外，还可以使用星号拆分列表。\n",
    "\n",
    "```\n",
    "some_list = [('a', 1), ('b', 2), ('c', 3)]\n",
    "letters, nums = zip(*some_list)\n",
    "```\n",
    "\n",
    "这样可以创建正如之前看到的相同 `letters` 和 `nums` 列表。\n",
    "\n",
    "#### Enumerate\n",
    "\n",
    "`enumerate` 是一个会返回元组迭代器的内置函数，这些元组包含列表的索引和值。当你需要在循环中获取可迭代对象的每个元素及其索引时，将经常用到该函数。\n",
    "\n",
    "```\n",
    "letters = ['a', 'b', 'c', 'd', 'e']\n",
    "for i, letter in enumerate(letters):\n",
    "    print(i, letter)\n",
    "```\n",
    "\n",
    "这段代码将输出：\n",
    "\n",
    "```\n",
    "0 a\n",
    "1 b\n",
    "2 c\n",
    "3 d\n",
    "4 e\n",
    "```"
   ]
  },
  {
   "cell_type": "markdown",
   "id": "0f052009",
   "metadata": {},
   "source": [
    "### 练习：组合坐标\n",
    "使用 zip 写一个 for 循环，该循环会创建一个字符串，指定每个点的标签和坐标，并将其附加到列表 points。每个字符串的格式应该为 label: x, y, z。例如，第一个坐标的字符串应该为 F: 23, 677, 4。"
   ]
  },
  {
   "cell_type": "code",
   "execution_count": null,
   "id": "9fc1b686",
   "metadata": {},
   "outputs": [
    {
     "name": "stdout",
     "output_type": "stream",
     "text": [
      "F: 23, 677, 4\n",
      "J: 53, 233, 16\n",
      "A: 2, 405, -6\n",
      "Q: -12, 433, -42\n",
      "Y: 95, 905, 3\n",
      "B: 103, 376, -6\n",
      "W: 14, 432, 23\n",
      "X: -5, 445, -1\n"
     ]
    }
   ],
   "source": [
    "x_coord = [23, 53, 2, -12, 95, 103, 14, -5]\n",
    "y_coord = [677, 233, 405, 433, 905, 376, 432, 445]\n",
    "z_coord = [4, 16, -6, -42, 3, -6, 23, -1]\n",
    "labels = [\"F\", \"J\", \"A\", \"Q\", \"Y\", \"B\", \"W\", \"X\"]\n",
    "\n",
    "points = []\n",
    "# write your for loop here\n",
    "for x, y, z, label in zip(x_coord, y_coord, z_coord, labels):\n",
    "    points.append(f\"{label}: {x}, {y}, {z}\")\n",
    "\n",
    "for point in points:\n",
    "    print(point)"
   ]
  },
  {
   "cell_type": "markdown",
   "id": "f74ebf0a",
   "metadata": {},
   "source": [
    "### 练习：将列表组合成字典\n",
    "使用 zip 创建一个字典 cast，该字典使用 names 作为键，并使用 heights 作为值。"
   ]
  },
  {
   "cell_type": "code",
   "execution_count": null,
   "id": "1d544367",
   "metadata": {},
   "outputs": [
    {
     "name": "stdout",
     "output_type": "stream",
     "text": [
      "{'Barney': 72, 'Robin': 68, 'Ted': 72, 'Lily': 66, 'Marshall': 76}\n"
     ]
    }
   ],
   "source": [
    "cast_names = [\"Barney\", \"Robin\", \"Ted\", \"Lily\", \"Marshall\"]\n",
    "cast_heights = [72, 68, 72, 66, 76]\n",
    "\n",
    "cast = dict()\n",
    "for name, height in zip(cast_names, cast_heights):\n",
    "    cast[name] = height\n",
    "print(cast)"
   ]
  },
  {
   "cell_type": "code",
   "execution_count": null,
   "id": "d9fc6ec9",
   "metadata": {},
   "outputs": [
    {
     "data": {
      "text/plain": [
       "{'Barney': 72, 'Robin': 68, 'Ted': 72, 'Lily': 66, 'Marshall': 76}"
      ]
     },
     "execution_count": 20,
     "metadata": {},
     "output_type": "execute_result"
    }
   ],
   "source": [
    "# [(\"Barney\", 72), (\"Robin\", 68), (\"Ted\", 72), (\"Lily\", 66), (\"Marshall\", 76)]\n",
    "dict(zip(cast_names, cast_heights))"
   ]
  },
  {
   "cell_type": "code",
   "execution_count": null,
   "id": "876fb0f8",
   "metadata": {},
   "outputs": [
    {
     "name": "stdout",
     "output_type": "stream",
     "text": [
      "{0: 'a', 1: 'b', 2: 'c'}\n"
     ]
    }
   ],
   "source": [
    "# create a dict: old way\n",
    "dic = {}\n",
    "for i, s in enumerate(['a', 'b', 'c']):\n",
    "    dic[i] = s\n",
    "print(dic)"
   ]
  },
  {
   "cell_type": "code",
   "execution_count": 22,
   "id": "06567235",
   "metadata": {},
   "outputs": [
    {
     "data": {
      "text/plain": [
       "{0: 'a', 1: 'b', 2: 'c'}"
      ]
     },
     "execution_count": 22,
     "metadata": {},
     "output_type": "execute_result"
    }
   ],
   "source": [
    "dict([(0, 'a'), (1, 'b'), (2, 'c')])"
   ]
  },
  {
   "cell_type": "code",
   "execution_count": 26,
   "id": "6c9695bb",
   "metadata": {},
   "outputs": [
    {
     "data": {
      "text/plain": [
       "{'Barney': 72, 'Robin': 68, 'Ted': 72, 'Lily': 66, 'Marshall': 76}"
      ]
     },
     "execution_count": 26,
     "metadata": {},
     "output_type": "execute_result"
    }
   ],
   "source": [
    "dict(zip(cast_names, cast_heights))"
   ]
  },
  {
   "cell_type": "markdown",
   "id": "6b04adf4",
   "metadata": {},
   "source": [
    "### 练习：拆封元组\n",
    "将 cast 元组拆封成两个 names 和 heights 元组。"
   ]
  },
  {
   "cell_type": "code",
   "execution_count": null,
   "id": "ae6672f7",
   "metadata": {},
   "outputs": [
    {
     "name": "stdout",
     "output_type": "stream",
     "text": [
      "['Barney', 'Robin', 'Ted', 'Lily', 'Marshall']\n",
      "[72, 68, 72, 66, 76]\n"
     ]
    }
   ],
   "source": [
    "cast = ((\"Barney\", 72), (\"Robin\", 68), (\"Ted\", 72), (\"Lily\", 66), (\"Marshall\", 76))\n",
    "\n",
    "# define names and heights here\n",
    "names, heights = [], []\n",
    "for cast_name, cast_height in cast:\n",
    "    names.append(cast_name)\n",
    "    heights.append(cast_height)\n",
    "\n",
    "print(names)\n",
    "print(heights)"
   ]
  },
  {
   "cell_type": "code",
   "execution_count": 28,
   "id": "61baf5ee",
   "metadata": {},
   "outputs": [
    {
     "name": "stdout",
     "output_type": "stream",
     "text": [
      "['Barney', 'Robin', 'Ted', 'Lily', 'Marshall']\n",
      "[72, 68, 72, 66, 76]\n"
     ]
    }
   ],
   "source": [
    "cast = ((\"Barney\", 72), (\"Robin\", 68), (\"Ted\", 72), (\"Lily\", 66), (\"Marshall\", 76))\n",
    "\n",
    "# define names and heights here\n",
    "names, heights = list(dict(cast).keys()), list(dict(cast).values())\n",
    "\n",
    "print(names)\n",
    "print(heights)"
   ]
  },
  {
   "cell_type": "code",
   "execution_count": 30,
   "id": "aebe99dd",
   "metadata": {},
   "outputs": [
    {
     "name": "stdout",
     "output_type": "stream",
     "text": [
      "('Barney', 'Robin', 'Ted', 'Lily', 'Marshall')\n",
      "(72, 68, 72, 66, 76)\n"
     ]
    }
   ],
   "source": [
    "cast = ((\"Barney\", 72), (\"Robin\", 68), (\"Ted\", 72), (\"Lily\", 66), (\"Marshall\", 76))\n",
    "\n",
    "# define names and heights here\n",
    "names, heights = zip(*cast)\n",
    "\n",
    "print(names)\n",
    "print(heights)"
   ]
  },
  {
   "cell_type": "markdown",
   "id": "4e72f1a3",
   "metadata": {},
   "source": [
    "### 练习：用 Zip 进行转置\n",
    "使用 zip 将 data 从 4x3 矩阵转置成 3x4 矩阵。实际上有一个很酷的技巧。如果想不出答案的话，可以查看解决方案。"
   ]
  },
  {
   "cell_type": "code",
   "execution_count": null,
   "id": "a3b3c47d",
   "metadata": {},
   "outputs": [
    {
     "name": "stdout",
     "output_type": "stream",
     "text": [
      "((0, 3, 6, 9), (1, 4, 7, 10), (2, 5, 8, 11))\n"
     ]
    }
   ],
   "source": [
    "data = ((0, 1, 2), (3, 4, 5), (6, 7, 8), (9, 10, 11))\n",
    "# [[0, 3, 6, 9],\n",
    "#  [1, 4, 7, 10],\n",
    "#  [2, 5, 8, 11]]]\n",
    "trans_data = []\n",
    "for i in range(len(data[0])):\n",
    "    t_data = []\n",
    "    for t in data:\n",
    "        t_data.append(t[i])\n",
    "    trans_data.append(tuple(t_data))\n",
    "\n",
    "data_transpose = tuple(trans_data)# replace with your code\n",
    "print(data_transpose)"
   ]
  },
  {
   "cell_type": "markdown",
   "id": "2735b125",
   "metadata": {},
   "source": [
    "### 练习：Enumerate\n",
    "使用 enumerate 修改列表 cast，使每个元素都包含姓名，然后是角色的对应身高。例如，cast 的第一个元素应该从 \"Barney Stinson\" 更改为 \"Barney Stinson 72”。"
   ]
  },
  {
   "cell_type": "code",
   "execution_count": null,
   "id": "9ed55925",
   "metadata": {},
   "outputs": [
    {
     "name": "stdout",
     "output_type": "stream",
     "text": [
      "['Barney Stinson 72', 'Robin Scherbatsky 68', 'Ted Mosby 72', 'Lily Aldrin 66', 'Marshall Eriksen 76']\n"
     ]
    }
   ],
   "source": [
    "cast = [\"Barney Stinson\", \"Robin Scherbatsky\", \"Ted Mosby\", \"Lily Aldrin\", \"Marshall Eriksen\"]\n",
    "heights = [72, 68, 72, 66, 76]\n",
    "\n",
    "# write your for loop here\n",
    "for i, cast_name in enumerate(cast):\n",
    "    cast[i] = f\"{cast_name} {heights[i]}\"\n",
    "\n",
    "print(cast)"
   ]
  },
  {
   "cell_type": "code",
   "execution_count": 33,
   "id": "818c0915",
   "metadata": {},
   "outputs": [
    {
     "data": {
      "text/plain": [
       "['Barney Stinson 72',\n",
       " 'Robin Scherbatsky 68',\n",
       " 'Ted Mosby 72',\n",
       " 'Lily Aldrin 66',\n",
       " 'Marshall Eriksen 76']"
      ]
     },
     "execution_count": 33,
     "metadata": {},
     "output_type": "execute_result"
    }
   ],
   "source": [
    "cast"
   ]
  },
  {
   "cell_type": "markdown",
   "id": "c67107fd",
   "metadata": {},
   "source": []
  }
 ],
 "metadata": {
  "kernelspec": {
   "display_name": "python101",
   "language": "python",
   "name": "python3"
  },
  "language_info": {
   "codemirror_mode": {
    "name": "ipython",
    "version": 3
   },
   "file_extension": ".py",
   "mimetype": "text/x-python",
   "name": "python",
   "nbconvert_exporter": "python",
   "pygments_lexer": "ipython3",
   "version": "3.10.18"
  }
 },
 "nbformat": 4,
 "nbformat_minor": 5
}
