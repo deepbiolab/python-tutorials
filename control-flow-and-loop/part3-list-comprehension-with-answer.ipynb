{
 "cells": [
  {
   "cell_type": "code",
   "execution_count": 2,
   "id": "89b35781",
   "metadata": {},
   "outputs": [
    {
     "data": {
      "text/plain": [
       "['Shanghai', 'Beijing']"
      ]
     },
     "execution_count": 2,
     "metadata": {},
     "output_type": "execute_result"
    }
   ],
   "source": [
    "cities = ['shanghai', 'beijing']\n",
    "capitalized_cities = [city.title() for city in cities]\n",
    "capitalized_cities"
   ]
  },
  {
   "cell_type": "code",
   "execution_count": 3,
   "id": "c2c06095",
   "metadata": {},
   "outputs": [
    {
     "data": {
      "text/plain": [
       "['SHANGHAI_01', 'BEIJING_02']"
      ]
     },
     "execution_count": 3,
     "metadata": {},
     "output_type": "execute_result"
    }
   ],
   "source": [
    "# updated_cities = ['SHANGHAI_01', 'BEIJING_02']\n",
    "updated_cities = [city.upper() + f\"_0{i+1}\" for i, city in enumerate(cities)]\n",
    "updated_cities"
   ]
  },
  {
   "cell_type": "code",
   "execution_count": 4,
   "id": "6b3b7cf9",
   "metadata": {},
   "outputs": [],
   "source": [
    "updated = []\n",
    "for i in range(9):\n",
    "\tif i % 2 == 0:\n",
    "\t\tupdated.append(i**2)\n",
    "\telse:\n",
    "\t\tupdated.append(i + 3)\n",
    "\n",
    "# squared = [i**2 for i in range(9)]\n",
    "# squared = [i**2 for i in range(9) if i % 2 == 0]\n",
    "updated = [i**2 if i % 2 == 0 else i+3 for i in range(9)]"
   ]
  },
  {
   "cell_type": "markdown",
   "id": "003f8dbc",
   "metadata": {},
   "source": [
    "## 列表推导式\n",
    "\n",
    "在 Python 中，你可以使用列表推导式快速简练地创建列表。下面是之前的一个示例：\n",
    "\n",
    "```\n",
    "capitalized_cities = []\n",
    "for city in cities:\n",
    "    capitalized_cities.append(city.title())\n",
    "```\n",
    "\n",
    "可以简写为：\n",
    "\n",
    "```\n",
    "capitalized_cities = [city.title() for city in cities]\n",
    "```\n",
    "\n",
    "借助列表推导式，我们可以使用 `for` 循环用一步创建一个列表。\n",
    "\n",
    "我们使用方括号 `[]` 创建列表推导式，括号里包含要对可迭代对象中的每个元素进行评估的条件。上述列表推导式对 `cities` 中的每个元素 `city` 调用 `city.title()`，以为新列表 `capitalized_cities` 创建每个元素。\n",
    "\n",
    "#### 列表推导式中的条件语句\n",
    "\n",
    "你还可以向列表推导式添加条件语句。在可迭代对象之后，你可以使用关键字 `if` 检查每次迭代中的条件。\n",
    "\n",
    "```\n",
    "squares = [x**2 for x in range(9) if x % 2 == 0]\n",
    "```\n",
    "\n",
    "上述代码将 `squares` 设为等于列表 [0, 4, 16, 36, 64]，因为仅在 x 为偶数时才评估 x 的 2 次幂。如果你想添加 `else`，将遇到语法错误。\n",
    "\n",
    "```\n",
    "squares = [x**2 for x in range(9) if x % 2 == 0 else x + 3]\n",
    "```\n",
    "\n",
    "如果你要添加 `else`，则需要将条件语句移到列表推导式的开头，直接放在表达式后面，如下所示。\n",
    "\n",
    "```\n",
    "squares = [x**2 if x % 2 == 0 else x + 3 for x in range(9)]\n",
    "```\n",
    "\n",
    "列表推导式并没有在其他语言中出现，但是在 python 中很常见。"
   ]
  },
  {
   "cell_type": "markdown",
   "id": "b13763b8",
   "metadata": {},
   "source": [
    "### 练习：提取名字\n",
    "使用列表推导式创建新的列表 first_names，其中仅包含 names 中的名字（小写形式）。\n",
    "\n"
   ]
  },
  {
   "cell_type": "code",
   "execution_count": 1,
   "id": "6fcbec94",
   "metadata": {},
   "outputs": [
    {
     "name": "stdout",
     "output_type": "stream",
     "text": [
      "['rick', 'morty', 'summer', 'jerry', 'beth']\n"
     ]
    }
   ],
   "source": [
    "names = [\"Rick Sanchez\", \"Morty Smith\", \"Summer Smith\", \"Jerry Smith\", \"Beth Smith\"]\n",
    "\n",
    "first_names = [name.split()[0].lower() for name in names]\n",
    "print(first_names)"
   ]
  },
  {
   "cell_type": "markdown",
   "id": "016a67d5",
   "metadata": {},
   "source": [
    "### 练习：multiples_3\n",
    "使用列表推导式创建一个列表 multiples_3，能够计算出 1 - 20 这 20 个整数中分别乘以 3 之后的结果。"
   ]
  },
  {
   "cell_type": "code",
   "execution_count": 2,
   "id": "0cf87f8f",
   "metadata": {},
   "outputs": [
    {
     "name": "stdout",
     "output_type": "stream",
     "text": [
      "[3, 6, 9, 12, 15, 18, 21, 24, 27, 30, 33, 36, 39, 42, 45, 48, 51, 54, 57, 60]\n"
     ]
    }
   ],
   "source": [
    "multiples_3 = [x * 3 for x in range(1, 21)]\n",
    "print(multiples_3)"
   ]
  },
  {
   "cell_type": "markdown",
   "id": "6d802b63",
   "metadata": {},
   "source": [
    "### 练习：按得分过滤姓名\n",
    "使用列表推导式创建一个 passed 的姓名列表，其中仅包含得分至少为 65 分的名字。"
   ]
  },
  {
   "cell_type": "code",
   "execution_count": 3,
   "id": "59b90b7a",
   "metadata": {},
   "outputs": [
    {
     "name": "stdout",
     "output_type": "stream",
     "text": [
      "['Rick Sanchez', 'Summer Smith', 'Beth Smith']\n"
     ]
    }
   ],
   "source": [
    "scores = {\n",
    "             \"Rick Sanchez\": 70,\n",
    "             \"Morty Smith\": 35,\n",
    "             \"Summer Smith\": 82,\n",
    "             \"Jerry Smith\": 23,\n",
    "             \"Beth Smith\": 98\n",
    "          }\n",
    "\n",
    "passed = [name for name, score in scores.items() if score >= 65]\n",
    "print(passed)"
   ]
  },
  {
   "cell_type": "markdown",
   "id": "de4b3e6b",
   "metadata": {},
   "source": []
  }
 ],
 "metadata": {
  "kernelspec": {
   "display_name": "python101",
   "language": "python",
   "name": "python3"
  },
  "language_info": {
   "codemirror_mode": {
    "name": "ipython",
    "version": 3
   },
   "file_extension": ".py",
   "mimetype": "text/x-python",
   "name": "python",
   "nbconvert_exporter": "python",
   "pygments_lexer": "ipython3",
   "version": "3.10.18"
  }
 },
 "nbformat": 4,
 "nbformat_minor": 5
}
