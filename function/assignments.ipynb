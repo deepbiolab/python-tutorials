{
 "cells": [
  {
   "cell_type": "code",
   "execution_count": 3,
   "id": "0076711a",
   "metadata": {},
   "outputs": [],
   "source": [
    "def count_above_average(numbers):\n",
    "    # average\n",
    "    avg = sum(numbers) / len(numbers)\n",
    "    # loop\n",
    "    cnt = len([n for n in numbers if n > avg])\n",
    "    return cnt\n"
   ]
  },
  {
   "cell_type": "code",
   "execution_count": 4,
   "id": "0bd13a80",
   "metadata": {},
   "outputs": [
    {
     "name": "stdout",
     "output_type": "stream",
     "text": [
      "2\n"
     ]
    }
   ],
   "source": [
    "test_numbers = [10, 20, 30, 40, 50]\n",
    "result = count_above_average(test_numbers)\n",
    "print(result)  # 期望输出：2"
   ]
  },
  {
   "cell_type": "code",
   "execution_count": 5,
   "id": "eba047a1",
   "metadata": {},
   "outputs": [],
   "source": [
    "def total_sales(sales):\n",
    "    return sum(sales)\n",
    "\n",
    "total_sales = lambda arr: sum(arr)"
   ]
  },
  {
   "cell_type": "code",
   "execution_count": 6,
   "id": "adf1e6f5",
   "metadata": {},
   "outputs": [
    {
     "name": "stdout",
     "output_type": "stream",
     "text": [
      "7500\n"
     ]
    }
   ],
   "source": [
    "sales = [1000, 2000, 1500, 3000]\n",
    "result = total_sales(sales)\n",
    "print(result)  # 期望输出：7500"
   ]
  },
  {
   "cell_type": "code",
   "execution_count": 12,
   "id": "a7b07a24",
   "metadata": {},
   "outputs": [],
   "source": [
    "def generate_email(first_name, last_name):\n",
    "    return f\"{first_name}.{last_name}@company.com\""
   ]
  },
  {
   "cell_type": "code",
   "execution_count": 13,
   "id": "edb9b7b7",
   "metadata": {},
   "outputs": [
    {
     "name": "stdout",
     "output_type": "stream",
     "text": [
      "john.smith@company.com\n"
     ]
    }
   ],
   "source": [
    "email = generate_email(\"john\", \"smith\")\n",
    "print(email)  # 期望输出：john.smith@company.com\n",
    "assert email == 'john.smith@company.com'"
   ]
  },
  {
   "cell_type": "code",
   "execution_count": 14,
   "id": "2f0e2fba",
   "metadata": {},
   "outputs": [],
   "source": [
    "def generate_ids(start_ix, end_ix):\n",
    "    return [f\"ID00{i}\" for i in range(start_ix, end_ix+1)]"
   ]
  },
  {
   "cell_type": "code",
   "execution_count": 15,
   "id": "1b182121",
   "metadata": {},
   "outputs": [
    {
     "name": "stdout",
     "output_type": "stream",
     "text": [
      "['ID001', 'ID002', 'ID003', 'ID004', 'ID005']\n"
     ]
    }
   ],
   "source": [
    "ids = generate_ids(1, 5)\n",
    "print(ids)  # 期望输出：['ID001', 'ID002', 'ID003', 'ID004', 'ID005']"
   ]
  },
  {
   "cell_type": "code",
   "execution_count": 18,
   "id": "37304875",
   "metadata": {},
   "outputs": [],
   "source": [
    "def profit_margin(revenue, cost):\n",
    "    profit = revenue - cost\n",
    "    return profit / revenue"
   ]
  },
  {
   "cell_type": "code",
   "execution_count": 19,
   "id": "a4ba2730",
   "metadata": {},
   "outputs": [
    {
     "name": "stdout",
     "output_type": "stream",
     "text": [
      "0.3\n"
     ]
    }
   ],
   "source": [
    "margin = profit_margin(10000, 7000)\n",
    "print(margin)  # 期望输出：0.30"
   ]
  },
  {
   "cell_type": "code",
   "execution_count": 29,
   "id": "f9f6cd4c",
   "metadata": {},
   "outputs": [],
   "source": [
    "def is_invoice_overdue(due_date, current_date):\n",
    "    due_year, due_month, due_day = [int(t) for t in due_date.split('-')]\n",
    "    curr_year, curr_month, curr_day = [int(t) for t in current_date.split('-')]\n",
    "    # diff year, ...\n",
    "    # same year, diff month, diff day\n",
    "    # same year, same month, diff day\n",
    "    if (curr_year > due_year):\n",
    "        return True\n",
    "    elif (curr_year == due_year and curr_month > due_month):\n",
    "        return True\n",
    "    elif (curr_year == due_year and curr_month == due_month and due_day < curr_day):\n",
    "        return True\n",
    "    else:\n",
    "        return False\n"
   ]
  },
  {
   "cell_type": "code",
   "execution_count": 32,
   "id": "1e3f1d49",
   "metadata": {},
   "outputs": [
    {
     "name": "stdout",
     "output_type": "stream",
     "text": [
      "True\n",
      "False\n"
     ]
    }
   ],
   "source": [
    "overdue = is_invoice_overdue(\"2024-06-01\", \"2024-06-10\")\n",
    "print(overdue)  # 期望输出：True\n",
    "\n",
    "overdue = is_invoice_overdue(\"2025-06-15\", \"2024-06-10\")\n",
    "print(overdue)  # 期望输出：False"
   ]
  },
  {
   "cell_type": "code",
   "execution_count": 33,
   "id": "3ae5238c",
   "metadata": {},
   "outputs": [],
   "source": [
    "def high_value_customers(customer_dict, threshold):\n",
    "    return [key for key, value in customer_dict.items() \n",
    "            if value >= 10000]"
   ]
  },
  {
   "cell_type": "code",
   "execution_count": 34,
   "id": "d0a194fc",
   "metadata": {},
   "outputs": [
    {
     "name": "stdout",
     "output_type": "stream",
     "text": [
      "['Alice', 'Charlie']\n"
     ]
    }
   ],
   "source": [
    "customers = {\"Alice\": 12000, \"Bob\": 8000, \"Charlie\": 15000}\n",
    "high_value = high_value_customers(customers, 10000)\n",
    "print(high_value)  # 期望输出：['Alice', 'Charlie']"
   ]
  },
  {
   "cell_type": "code",
   "execution_count": 35,
   "id": "dea966e5",
   "metadata": {},
   "outputs": [],
   "source": [
    "def format_salutation(name=None, gender=None):\n",
    "    if (gender == 'male'):\n",
    "        return f\"尊敬的{name}先生\"\n",
    "    elif (gender == 'female'):\n",
    "        return f\"尊敬的{name}女士\"\n",
    "    else:\n",
    "        return \"您好\"\n"
   ]
  },
  {
   "cell_type": "code",
   "execution_count": 36,
   "id": "f91c2df8",
   "metadata": {},
   "outputs": [
    {
     "name": "stdout",
     "output_type": "stream",
     "text": [
      "尊敬的张先生\n"
     ]
    }
   ],
   "source": [
    "salutation1 = format_salutation(\"张\", \"male\")\n",
    "print(salutation1)  # 期望输出：尊敬的张先生"
   ]
  },
  {
   "cell_type": "code",
   "execution_count": null,
   "id": "bda6b01d",
   "metadata": {},
   "outputs": [],
   "source": [
    "stocks = [23, 45, 12, 8]\n",
    "total = total_inventory(stocks)\n",
    "print(total)  # 期望输出：88"
   ]
  },
  {
   "cell_type": "code",
   "execution_count": null,
   "id": "e835a444",
   "metadata": {},
   "outputs": [],
   "source": [
    "restock = needs_restock(7, 10)\n",
    "print(restock)  # 期望输出：True\n",
    "\n",
    "restock = needs_restock(15, 10)\n",
    "print(restock)  # 期望输出：False"
   ]
  }
 ],
 "metadata": {
  "kernelspec": {
   "display_name": "python101",
   "language": "python",
   "name": "python3"
  },
  "language_info": {
   "codemirror_mode": {
    "name": "ipython",
    "version": 3
   },
   "file_extension": ".py",
   "mimetype": "text/x-python",
   "name": "python",
   "nbconvert_exporter": "python",
   "pygments_lexer": "ipython3",
   "version": "3.10.18"
  }
 },
 "nbformat": 4,
 "nbformat_minor": 5
}
