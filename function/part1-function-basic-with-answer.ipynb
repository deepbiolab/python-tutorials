{
 "cells": [
  {
   "cell_type": "markdown",
   "id": "a220edd4",
   "metadata": {},
   "source": [
    "## 函数\n",
    "\n",
    "- 函数定义\n",
    "- 变量作用域\n",
    "- 文档\n",
    "- Lambda 表达式\n",
    "- 迭代器和生成器\n",
    "\n",
    "![image.png](assets/function_illustration.png)\n"
   ]
  },
  {
   "cell_type": "markdown",
   "id": "b6e21ec9",
   "metadata": {},
   "source": [
    "## 定义函数\n",
    "\n",
    "函数定义示例：\n",
    "\n",
    "```\n",
    "def cylinder_volume(height, radius):\n",
    "    pi = 3.14159\n",
    "    return height  * pi *  radius ** 2\n",
    "```\n",
    "\n",
    "定义 cylinder_volume 函数后，我们可以如下所示地**调用**该函数。\n",
    "\n",
    "```\n",
    "cylinder_volume(10, 3)\n",
    "```\n",
    "\n",
    "函数定义包含几个重要部分。\n",
    "\n",
    "#### 函数头部\n",
    "\n",
    "我们从函数头部开始，即函数定义的第一行。\n",
    "\n",
    "1. 函数头部始终以关键字 `def` 开始，表示这是函数定义。\n",
    "2. 然后是函数名称（在此例中是 `cylinder_volume`，因为函数名是要一个单词，所以需要用_进行连接），遵循的是和变量一样的命名规范。你可以在本页面下方回顾下命名规范。\n",
    "3. 名称之后是括号，其中可能包括用英文逗号分隔的参数（在此例中是 `height` 和 `radius`）。[形参（或实参）(opens in a new tab)](https://stackoverflow.com/questions/3176310/difference-between-parameter-and-argument)是当函数被调用时作为输入传入的值，用在函数主体中。如果函数没有参数，这些括号留空。\n",
    "4. 头部始终以英文冒号 `:` 结束。\n",
    "\n",
    "#### 函数主体\n",
    "\n",
    "函数的剩余部分包含在主题中，也就是函数完成操作的部分。\n",
    "\n",
    "1. 函数主体是在头部行之后缩进的代码。在此例中是定义 π 和返回体积的两行代码。\n",
    "2. 在此主体中，我们可以引用参数并定义新的变量，这些变量只能在这些缩进代码行内使用。\n",
    "3. 主体将经常包括 `return` 语句，用于当函数被调用时返回输出值。`return` 语句包括关键字 `return`，然后是经过评估以获得函数输出值的表达式。如果没有 `return` 语句，函数直接返回 None（例如内置 `print()` 函数）。\n",
    "\n",
    "#### 函数的命名规范\n",
    "\n",
    "函数名称遵守和变量一样的命名规范。\n",
    "\n",
    "1. 仅在函数名称中使用普通字母、数字和下划线。不能有空格，需要以字母或下划线开头。\n",
    "2. **不能使用在 Python 中具有重要作用的保留字或内置标识符**，我们将在这门课程中学习这方面的知识。要了解 python 保留字列表，请参阅[此处(opens in a new tab)](https://pentangle.net/python/handbook/node52.html)。\n",
    "3. 尝试使用可以帮助读者了解函数作用的描述性名称。"
   ]
  },
  {
   "cell_type": "code",
   "execution_count": null,
   "id": "a72e0729",
   "metadata": {},
   "outputs": [],
   "source": []
  },
  {
   "cell_type": "markdown",
   "id": "b29c9932",
   "metadata": {},
   "source": [
    "## 默认参数\n",
    "\n",
    "我们可以向函数中添加默认参数，以便为在函数调用中未指定的参数提供默认值。\n",
    "\n",
    "```\n",
    "def cylinder_volume(height, radius=5):\n",
    "    pi = 3.14159\n",
    "    return height  *pi*  radius ** 2\n",
    "```\n",
    "\n",
    "在上述示例中，如果在函数调用中忽略了 `radius`，则将该参数设为 5。如果我们调用 `cylinder_volume(10)`，该函数将使用 10 作为高度，使用 5 作为半径。但是，如果调用 `cylinder_volume(10, 7)`，7 将覆盖默认的值 5。\n",
    "\n",
    "此外注意，我们按照位置向参数传递值。可以通过两种方式传递值：按照位置和按照名称。下面两个函数的效果是一样的。\n",
    "\n",
    "```\n",
    "cylinder_volume(10, 7)  # pass in arguments by position\n",
    "cylinder_volume(height=10, radius=7)  # pass in arguments by name\n",
    "```\n",
    "\n"
   ]
  },
  {
   "cell_type": "code",
   "execution_count": null,
   "id": "fd086d94",
   "metadata": {},
   "outputs": [],
   "source": []
  },
  {
   "cell_type": "markdown",
   "id": "44862e11",
   "metadata": {},
   "source": [
    "## 练习：人口密度函数\n",
    "\n",
    "写一个名称为 `population_density` 的函数，该函数有两个参数 `population` 和 `land_area`，并根据这两个值返回人口密度。我提供了两个测试用例，你可以用这两个用例验证你的函数是否能正常运行。写好该函数后，点击“测试答案”按钮测试你的代码。"
   ]
  },
  {
   "cell_type": "code",
   "execution_count": 1,
   "id": "6b2ceb39",
   "metadata": {},
   "outputs": [
    {
     "name": "stdout",
     "output_type": "stream",
     "text": [
      "expected result: 10, actual result: 10.0\n",
      "expected result: 7123.6902801, actual result: 7123.690280065897\n"
     ]
    }
   ],
   "source": [
    "# -------- write your function here --------\n",
    "def population_density(population, land_area):\n",
    "    return population/land_area\n",
    "\n",
    "\n",
    "# --------------------- end ----------------\n",
    "# test cases for your function\n",
    "test1 = population_density(10, 1)\n",
    "expected_result1 = 10\n",
    "print(\"expected result: {}, actual result: {}\".format(expected_result1, test1))\n",
    "\n",
    "test2 = population_density(864816, 121.4)\n",
    "expected_result2 = 7123.6902801\n",
    "print(\"expected result: {}, actual result: {}\".format(expected_result2, test2))"
   ]
  },
  {
   "cell_type": "markdown",
   "id": "8a7f9a16",
   "metadata": {},
   "source": [
    "## 练习：`readable_timedelta`\n",
    "\n",
    "写一个叫做 `readable_timedelta` 的函数，该函数有一个参数：整数 `days`，并返回一个表示由多少周多少天组成的字符串。例如 `readable_timedelta(10)` 应返回“1 week(s) and 3 day(s).”。"
   ]
  },
  {
   "cell_type": "code",
   "execution_count": 2,
   "id": "85976c2b",
   "metadata": {},
   "outputs": [
    {
     "name": "stdout",
     "output_type": "stream",
     "text": [
      "1 week(s) and 3 day(s).\n"
     ]
    }
   ],
   "source": [
    "# -------- write your function here --------\n",
    "def readable_timedelta(days):\n",
    "    # use integer division to get the number of weeks\n",
    "    weeks = days // 7\n",
    "    # use % to get the number of days that remain\n",
    "    remainder = days % 7\n",
    "    return \"{} week(s) and {} day(s).\".format(weeks, remainder)\n",
    "\n",
    "\n",
    "# --------------------- end ----------------\n",
    "\n",
    "# test your function\n",
    "print(readable_timedelta(10))"
   ]
  },
  {
   "cell_type": "markdown",
   "id": "19dccc44",
   "metadata": {},
   "source": [
    "## 变量作用域\n",
    "\n",
    "![](assets/python-namespace.png)\n",
    "\n",
    "__变量作用域__是指可以在程序的哪个部分引用或使用某个变量。\n",
    "\n",
    "在函数中使用变量时，务必要考虑作用域。如果变量是在函数内创建的，则只能在该函数内使用该变量。你无法从该函数外面访问该变量。\n",
    "\n",
    "```\n",
    "## This will result in an error\n",
    "def some_function():\n",
    "    word = \"hello\"\n",
    " \n",
    "print(word)\n",
    "```\n",
    "\n",
    "这意味着你可以为在不同函数内使用的不同变量使用相同的名称。\n",
    "\n",
    "```\n",
    "## This works fine\n",
    "def some_function():\n",
    "    word = \"hello\"\n",
    " \n",
    "def another_function():\n",
    "    word = \"goodbye\"\n",
    "```\n",
    "\n",
    "像这样在函数之外定义的变量依然可以在函数内访问。\n",
    "\n",
    "```\n",
    "## This works fine\n",
    "word = \"hello\"\n",
    "\n",
    "def some_function():\n",
    "    print(word)\n",
    "\n",
    "print(word)\n",
    "```\n",
    "\n",
    "注意，我们可以在此函数内以及函数外输出 `word`。作用域对理解信息在用 Python 和任何编程语言编写的程序中的传递方式来说很关键。\n",
    "\n",
    "### 关于变量作用域的更多信息\n",
    "\n",
    "在编程时，你经常会发现相似的想法不断出现。你将使用变量进行计数、迭代和累积要返回的值。为了编写容易读懂的代码，你会发现你需要对相似的想法使用相似的名称。一旦你将多段代码放到一起（例如，一个脚本中有多个函数或函数调用），你可能需要为两个不同的概念使用相同的名称。\n",
    "\n",
    "幸运的是，你不需要不断想出新的名称。可以为对象重复使用相同的名称，只要它们位于不同的作用域即可。\n",
    "\n",
    "良好实践：建议将变量定义在所需的最小作用域内。虽然函数_可以_引用在更大的作用域内定义的变量，但是通常不建议这么做，因为如果程序有很多变量，你可能不知道你定义了什么变量。"
   ]
  },
  {
   "cell_type": "code",
   "execution_count": null,
   "id": "5ef85c61",
   "metadata": {},
   "outputs": [],
   "source": [
    "# 运行这段代码后的结果是什么？如果不确定，在自己的计算机上运行一下！\n",
    "egg_count = 0\n",
    "\n",
    "def buy_eggs():\n",
    "    egg_count += 12 # purchase a dozen eggs\n",
    "\n",
    "buy_eggs()"
   ]
  },
  {
   "cell_type": "markdown",
   "id": "43ae80f9",
   "metadata": {},
   "source": [
    "> 你发现在函数内，我们可以成功地输出外部变量的值。因为我们只是访问该变量的值。当我们尝试将此变量的值__更改__或__重新赋值为__另一个值时，我们将遇到错误。Python 不允许函数修改不在函数作用域内的变量。\n",
    "\n",
    "> 但是上面的原则仅适用于整数和字符串，列表、字典、集合、类中可以在子程序（子函数）中通过修改局部变量达到修改全局变量的目的。"
   ]
  },
  {
   "cell_type": "code",
   "execution_count": 3,
   "id": "4adf7ecd",
   "metadata": {},
   "outputs": [],
   "source": [
    "egg_count = 0\n",
    "\n",
    "def buy_eggs(count):\n",
    "    return count + 12  # purchase a dozen eggs\n",
    "\n",
    "egg_count = buy_eggs(egg_count)"
   ]
  },
  {
   "cell_type": "markdown",
   "id": "928d37e1",
   "metadata": {},
   "source": [
    "## 文档\n",
    "\n",
    "文档使代码更容易理解和使用。函数尤其容易理解，因为它们通常使用文档字符串，简称 docstrings。文档字符串是一种注释，用于解释函数的作用以及使用方式。下面是一个包含文档字符串的人口密度函数。\n",
    "\n",
    "```\n",
    "def population_density(population, land_area):\n",
    "    \"\"\"Calculate the population density of an area. \"\"\"\n",
    "    return population / land_area\n",
    "```\n",
    "\n",
    "文档字符串用三个引号引起来，第一行简要解释了函数的作用。如果你觉得信息已经足够了，可以在文档字符串中只提供这么多的信息；一行文档字符串完全可接受，如上述示例所示。\n",
    "\n",
    "```\n",
    "def population_density(population, land_area):\n",
    "    \"\"\"Calculate the population density of an area.\n",
    "\n",
    "    INPUT:\n",
    "    population: int. The population of that area\n",
    "    land_area: int or float. This function is unit-agnostic, if you pass in values in terms\n",
    "    of square km or square miles the function will return a density in those units.\n",
    "\n",
    "    OUTPUT: \n",
    "    population_density: population / land_area. The population density of a particular area.\n",
    "    \"\"\"\n",
    "    return population / land_area\n",
    "```\n",
    "\n",
    "如果你觉得需要更长的句子来解释函数，可以在一行摘要后面添加更多信息。在上述示例中，可以看出我们对函数的参数进行了解释，描述了每个参数的作用和类型。我们经常还会对函数输出进行说明。\n",
    "\n",
    "文档字符串的每个部分都是可选的。但是，提供文档字符串是一个良好的编程习惯。你可以在[此处(opens in a new tab)](https://www.python.org/dev/peps/pep-0257)详细了解文档字符串惯例。"
   ]
  },
  {
   "cell_type": "code",
   "execution_count": null,
   "id": "de07d5c5",
   "metadata": {},
   "outputs": [],
   "source": []
  },
  {
   "cell_type": "markdown",
   "id": "90f3c2a5",
   "metadata": {},
   "source": [
    "## 练习：编写文档字符串\n",
    "\n",
    "为你之前定义的 `readable_timedelta` 函数写一个文档字符串！"
   ]
  },
  {
   "cell_type": "code",
   "execution_count": 4,
   "id": "7afe1155",
   "metadata": {},
   "outputs": [],
   "source": [
    "def readable_timedelta(days):\n",
    "    \"\"\"Print the number of weeks and days in a number of days.\"\"\"\n",
    "    weeks = days // 7\n",
    "    remainder = days % 7\n",
    "    return \"{} week(s) and {} day(s)\".format(weeks, remainder)"
   ]
  },
  {
   "cell_type": "markdown",
   "id": "699aeb8b",
   "metadata": {},
   "source": [
    "## Lambda 表达式\n",
    "\n",
    "你可以使用 Lambda 表达式创建匿名函数，即没有名称的函数。lambda 表达式非常适合快速创建在代码中以后不会用到的函数。尤其对高阶函数或将其他函数作为参数的函数来说，非常实用。\n",
    "\n",
    "我们可以使用 lambda 表达式将以下函数\n",
    "\n",
    "```\n",
    "def multiply(x, y):\n",
    "    return x * y\n",
    "```\n",
    "\n",
    "简写为：\n",
    "\n",
    "```\n",
    "double = lambda x, y: x * y\n",
    "```\n",
    "\n",
    "#### Lambda 函数的组成部分\n",
    "\n",
    "1. 关键字 `lambda` 表示这是一个 lambda 表达式。\n",
    "2. `lambda` 之后是该匿名函数的一个或多个参数（用英文逗号分隔），然后是一个英文冒号 `:`。和函数相似，lambda 表达式中的参数名称是随意的。\n",
    "3. 最后一部分是被评估并在该函数中返回的表达式，和你可能会在函数中看到的 return 语句很像。\n",
    "\n",
    "鉴于这种结构，lambda 表达式不太适合复杂的函数，但是非常适合简短的函数。"
   ]
  },
  {
   "cell_type": "code",
   "execution_count": null,
   "id": "518b7bcf",
   "metadata": {},
   "outputs": [],
   "source": []
  },
  {
   "cell_type": "markdown",
   "id": "fe8a39f5",
   "metadata": {},
   "source": [
    "## 练习：Lambda 与 Map\n",
    "\n",
    "`map()` 是一个高阶内置函数，接受函数和可迭代对象作为输入，并返回一个将该函数应用到可迭代对象的每个元素的迭代器。下面的代码使用 `map()` 计算 `numbers` 中每个列表的均值，并创建列表 `averages`。测试运行这段代码，看看结果如何。\n",
    "\n",
    "通过将 `mean` 函数替换为在 `map()` 的调用中定义的 lambda 表达式，重写这段代码，使代码更简练。"
   ]
  },
  {
   "cell_type": "code",
   "execution_count": null,
   "id": "0dfe04d0",
   "metadata": {},
   "outputs": [],
   "source": [
    "numbers = [\n",
    "              [34, 63, 88, 71, 29],\n",
    "              [90, 78, 51, 27, 45],\n",
    "              [63, 37, 85, 46, 22],\n",
    "              [51, 22, 34, 11, 18]\n",
    "           ]\n",
    "\n",
    "def mean(num_list):\n",
    "    return sum(num_list) / len(num_list)\n",
    "\n",
    "averages = list(map(mean, numbers))\n",
    "print(averages)"
   ]
  },
  {
   "cell_type": "code",
   "execution_count": null,
   "id": "da4a734e",
   "metadata": {},
   "outputs": [],
   "source": [
    "numbers = [\n",
    "              [34, 63, 88, 71, 29],\n",
    "              [90, 78, 51, 27, 45],\n",
    "              [63, 37, 85, 46, 22],\n",
    "              [51, 22, 34, 11, 18]\n",
    "           ]\n",
    "\n",
    "averages = list(map(lambda x: sum(x) / len(x), numbers))\n",
    "print(averages)"
   ]
  },
  {
   "cell_type": "markdown",
   "id": "c844057a",
   "metadata": {},
   "source": [
    "## 练习：Lambda 与 Filter\n",
    "\n",
    "`filter()` 是一个高阶内置函数，接受函数和可迭代对象作为输入，并返回一个由可迭代对象中的特定元素（该函数针对该元素会返回 True）组成的迭代器。下面的代码使用 `filter()` 从 `cities` 中获取长度少于 10 个字符的名称以创建列表 `short_cities`。测试运行这段代码，看看结果如何。\n",
    "\n",
    "通过将 `is_short` 函数替换为在 `filter()` 的调用中定义的 lambda 表达式，重写这段代码，使代码更简练。"
   ]
  },
  {
   "cell_type": "code",
   "execution_count": null,
   "id": "a33b99b9",
   "metadata": {},
   "outputs": [],
   "source": [
    "cities = [\"New York City\", \"Los Angeles\", \"Chicago\", \"Mountain View\", \"Denver\", \"Boston\"]\n",
    "\n",
    "def is_short(name):\n",
    "    return len(name) < 10\n",
    "\n",
    "short_cities = list(filter(is_short, cities))\n",
    "print(short_cities)"
   ]
  },
  {
   "cell_type": "code",
   "execution_count": null,
   "id": "40c8d435",
   "metadata": {},
   "outputs": [],
   "source": [
    "cities = [\"New York City\", \"Los Angeles\", \"Chicago\", \"Mountain View\", \"Denver\", \"Boston\"]\n",
    "\n",
    "short_cities = list(filter(lambda x: len(x) < 10, cities))\n",
    "print(short_cities)"
   ]
  },
  {
   "cell_type": "markdown",
   "id": "1d415e0b",
   "metadata": {},
   "source": [
    "## 迭代器和生成器\n",
    "\n",
    "__迭代器__是每次可以返回一个对象元素的对象，例如返回一个列表。我们到目前为止使用的很多内置函数（例如 enumerate）都会返回一个迭代器。\n",
    "\n",
    "__迭代器__是一种表示数据流的对象。这与列表不同，列表是可迭代对象，但不是迭代器，因为它不是数据流。\n",
    "\n",
    "__生成器__是使用函数创建迭代器的简单方式。也可以使用__类__定义迭代器，更多详情请参阅[此处(opens in a new tab)](https://docs.python.org/3/tutorial/classes.html#iterators)。\n",
    "\n",
    "下面是一个叫做 `my_range` 的生成器函数，它会生成一个从 0 到 (x - 1) 的数字流。\n",
    "\n",
    "```\n",
    "def my_range(x):\n",
    "    i = 0\n",
    "    while i < x:\n",
    "        yield i\n",
    "        i += 1\n",
    "```\n",
    "\n",
    "注意，该函数使用了 yield 而不是关键字 return。这样使函数能够一次返回一个值，并且每次被调用时都从停下的位置继续。关键字 yield 是将生成器与普通函数区分开来的依据。\n",
    "\n",
    "注意，因为这段代码会返回一个迭代器，因此我们可以将其转换为列表或用 for 循环遍历它，以查看其内容。例如，下面的代码：\n",
    "\n",
    "```\n",
    "for x in my_range(5):\n",
    "    print(x)\n",
    "```\n",
    "\n",
    "输出：\n",
    "\n",
    "```\n",
    "0\n",
    "1\n",
    "2\n",
    "3\n",
    "4\n",
    "```"
   ]
  },
  {
   "cell_type": "code",
   "execution_count": null,
   "id": "be55b6f7",
   "metadata": {},
   "outputs": [],
   "source": []
  },
  {
   "cell_type": "markdown",
   "id": "40d69f5a",
   "metadata": {},
   "source": [
    "## 练习：实现 `my_enumerate`\n",
    "\n",
    "请自己写一个效果和内置函数 `enumerate` 一样的生成器函数。\n",
    "\n",
    "如下所示地调用该函数：\n",
    "\n",
    "```\n",
    "lessons = [\"Why Python Programming\", \"Data Types and Operators\", \"Control Flow\", \"Functions\", \"Scripting\"]\n",
    "\n",
    "for i, lesson in my_enumerate(lessons, 1):\n",
    "    print(\"Lesson {}: {}\".format(i, lesson))\n",
    "```\n",
    "\n",
    "应该会输出：\n",
    "\n",
    "```\n",
    "Lesson 1: Why Python Programming\n",
    "Lesson 2: Data Types and Operators\n",
    "Lesson 3: Control Flow\n",
    "Lesson 4: Functions\n",
    "Lesson 5: Scripting\n",
    "```\n",
    "\n"
   ]
  },
  {
   "cell_type": "code",
   "execution_count": null,
   "id": "36fd8154",
   "metadata": {},
   "outputs": [],
   "source": [
    "lessons = [\"Why Python Programming\", \"Data Types and Operators\", \"Control Flow\", \"Functions\", \"Scripting\"]\n",
    "\n",
    "def my_enumerate(iterable, start=0):\n",
    "    # Implement your generator function here\n",
    "\n",
    "\n",
    "for i, lesson in my_enumerate(lessons, 1):\n",
    "    print(\"Lesson {}: {}\".format(i, lesson))"
   ]
  },
  {
   "cell_type": "code",
   "execution_count": null,
   "id": "811cbeff",
   "metadata": {},
   "outputs": [],
   "source": [
    "lessons = [\"Why Python Programming\", \"Data Types and Operators\", \"Control Flow\", \"Functions\", \"Scripting\"]\n",
    "\n",
    "def my_enumerate(iterable, start=0):\n",
    "    count = start\n",
    "    for element in iterable:\n",
    "        yield count, element\n",
    "        count += 1\n",
    "\n",
    "for i, lesson in my_enumerate(lessons, 1):\n",
    "    print(\"Lesson {}: {}\".format(i, lesson))"
   ]
  },
  {
   "cell_type": "markdown",
   "id": "1e7f9d8d",
   "metadata": {},
   "source": [
    "## 为何要使用生成器？\n",
    "\n",
    "你可能会疑问，为何要使用生成器，而不使用列表。下面这段摘自 [stack overflow 页面(opens in a new tab)](https://softwareengineering.stackexchange.com/questions/290231/when-should-i-use-a-generator-and-when-a-list-in-python/290235) 的内容回答了这个问题：\n",
    "\n",
    "> 生成器是构建迭代器的 “懒惰” 方式。当内存不够存储完整实现的列表时，或者计算每个列表元素的代价很高，你希望尽量推迟计算时，就可以使用生成器。但是这些元素只能遍历一次。\n",
    "\n",
    "另一种详细的解释如下（详细说明参见 [该 stack overflow 页面(opens in a new tab)](https://softwareengineering.stackexchange.com/questions/273551/should-i-prefer-python-generators-to-lists)。）\n",
    "\n",
    "> 由于使用生成器是一次处理一个数据，在内存和存储的需求上会比使用 list 方式直接全部生成再存储节省很多资源。\n",
    "\n",
    "> 由此区别，在处理大量数据时，经常使用生成器初步处理数据后，再进行长期存储，而不是使用 list。因为无论使用生成器还是 list，都是使用过就要丢弃的临时数据。既然功能和结果一样，那就不如用生成器。\n",
    "\n",
    "> 但是生成器也有自己的局限，它产生的数据不能回溯，不像 list 可以任意选择。"
   ]
  },
  {
   "cell_type": "markdown",
   "id": "f5ebb89a",
   "metadata": {},
   "source": [
    "## 练习：Chunker\n",
    "\n",
    "如果可迭代对象太大，无法完整地存储在内存中（例如处理大型文件时），每次能够使用一部分很有用。\n",
    "\n",
    "实现一个生成器函数 `chunker`，接受一个可迭代对象并每次生成指定大小的部分数据。\n",
    "\n",
    "如下所示地调用该函数：\n",
    "\n",
    "```\n",
    "for chunk in chunker(range(25), 4):\n",
    "    print(list(chunk))\n",
    "```\n",
    "\n",
    "应该会输出：\n",
    "\n",
    "```\n",
    "[0, 1, 2, 3]\n",
    "[4, 5, 6, 7]\n",
    "[8, 9, 10, 11]\n",
    "[12, 13, 14, 15]\n",
    "[16, 17, 18, 19]\n",
    "[20, 21, 22, 23]\n",
    "[24]\n",
    "```\n",
    "\n"
   ]
  },
  {
   "cell_type": "code",
   "execution_count": null,
   "id": "e47e2fd9",
   "metadata": {},
   "outputs": [],
   "source": [
    "def chunker(iterable, size):\n",
    "    # Implement function here\n",
    "\n",
    "\n",
    "for chunk in chunker(range(25), 4):\n",
    "    print(list(chunk))"
   ]
  },
  {
   "cell_type": "code",
   "execution_count": null,
   "id": "3a7cf745",
   "metadata": {},
   "outputs": [],
   "source": [
    "def chunker(iterable, size):\n",
    "    \"\"\"Yield successive chunks from iterable of length size.\"\"\"\n",
    "    for i in range(0, len(iterable), size):\n",
    "        yield iterable[i:i + size]\n",
    "\n",
    "for chunk in chunker(range(25), 4):\n",
    "    print(list(chunk))"
   ]
  }
 ],
 "metadata": {
  "kernelspec": {
   "display_name": "python101",
   "language": "python",
   "name": "python3"
  },
  "language_info": {
   "codemirror_mode": {
    "name": "ipython",
    "version": 3
   },
   "file_extension": ".py",
   "mimetype": "text/x-python",
   "name": "python",
   "nbconvert_exporter": "python",
   "pygments_lexer": "ipython3",
   "version": "3.10.18"
  }
 },
 "nbformat": 4,
 "nbformat_minor": 5
}
