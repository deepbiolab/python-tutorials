{
 "cells": [
  {
   "cell_type": "markdown",
   "id": "417069bd",
   "metadata": {},
   "source": [
    "\n",
    "\n",
    "### 第三方库\n",
    "\n",
    "Python 拥有成千上万由独立开发者维护的第三方库！你可以通过 pip 安装这些库。**pip** 是 Python 官方推荐的软件包管理器，Python 3.4 及以上版本默认自带。建议在虚拟环境（如 `venv` 或 `conda` 环境）中安装和管理依赖。\n",
    "\n",
    "#### pip 安装软件包\n",
    "\n",
    "推荐在命令行中使用如下命令安装软件包：\n",
    "\n",
    "```bash\n",
    "python -m pip install package_name\n",
    "```\n",
    "\n",
    "这样可以避免多 Python 版本环境下的混淆。  \n",
    "你也可以使用其他包管理工具，如 [Anaconda](https://www.anaconda.com/)、[mamba](https://mamba.readthedocs.io/)、[poetry](https://python-poetry.org/)、[pipenv](https://pipenv.pypa.io/) 等，具体选择可根据项目需求和团队习惯。\n",
    "\n",
    "#### 使用 requirements.txt 文件\n",
    "\n",
    "大型 Python 项目往往依赖多个第三方库。为了便于分享和复现环境，开发者通常会将依赖项列在 `requirements.txt` 文件中。例如：\n",
    "\n",
    "```\n",
    "beautifulsoup4==4.12.3\n",
    "pytz==2024.1\n",
    "requests==2.31.0\n",
    "```\n",
    "\n",
    "每行包含软件包名称和版本号。建议总是指定版本，以保证环境一致性。  \n",
    "你可以用如下命令一次性安装所有依赖：\n",
    "\n",
    "```bash\n",
    "python -m pip install -r requirements.txt\n",
    "```\n",
    "\n",
    "此外，现代项目也常用 `pyproject.toml`（如 poetry/pdm）、`Pipfile`（pipenv）等方式管理依赖。\n",
    "\n",
    "---\n",
    "\n",
    "### 实用的第三方软件包（2025 推荐）\n",
    "\n",
    "能够安装并导入第三方库非常重要，但更重要的是了解哪些库值得使用。以下是当前（2025 年）主流且实用的 Python 第三方库推荐：\n",
    "\n",
    "- **IPython** - 更强大的交互式 Python 解释器\n",
    "- **requests** - 简洁易用的 HTTP 网络请求库，适合访问 Web API\n",
    "- **httpx** - 支持异步的现代 HTTP 客户端，适合高并发场景\n",
    "- **Flask** - 轻量级 Web 应用与 API 框架\n",
    "- **FastAPI** - 新一代高性能 Web API 框架，基于类型注解\n",
    "- **Django** - 全功能 Web 应用框架，适合复杂项目\n",
    "- **Beautiful Soup** - 解析 HTML/XML、网页数据抽取\n",
    "- **lxml** - 高性能 XML/HTML 解析库\n",
    "- **pytest** - 功能强大的测试框架\n",
    "- **PyYAML** - 读写 YAML 文件\n",
    "- **NumPy** - 科学计算基础库，N 维数组与线性代数\n",
    "- **pandas** - 数据分析和数据结构库，DataFrame 非常强大\n",
    "- **matplotlib** - 2D 绘图库，支持高质量图片输出\n",
    "- **seaborn** - 基于 matplotlib 的统计数据可视化库\n",
    "- **plotnine** - 基于 ggplot2 语法的绘图库（推荐替代 ggplot）\n",
    "- **scikit-learn** - 机器学习与数据建模基础库\n",
    "- **tqdm** - 进度条工具，适合循环可视化\n",
    "- **Pillow** - 图像处理基础库\n",
    "- **rich** - 终端美化与富文本输出\n",
    "- **pytz** - 世界时区定义\n",
    "- **Pygame** - 游戏开发模块集合"
   ]
  },
  {
   "cell_type": "code",
   "execution_count": 2,
   "id": "36cc66da",
   "metadata": {},
   "outputs": [
    {
     "data": {
      "application/vnd.microsoft.datawrangler.viewer.v0+json": {
       "columns": [
        {
         "name": "index",
         "rawType": "int64",
         "type": "integer"
        },
        {
         "name": "1",
         "rawType": "int64",
         "type": "integer"
        },
        {
         "name": "0",
         "rawType": "int64",
         "type": "integer"
        },
        {
         "name": "0.1",
         "rawType": "int64",
         "type": "integer"
        },
        {
         "name": "0.0",
         "rawType": "float64",
         "type": "float"
        }
       ],
       "ref": "30a98328-5f98-4386-a4ed-3961d6861ee8",
       "rows": [
        [
         "0",
         "2",
         "2",
         "1",
         "0.1"
        ],
        [
         "1",
         "3",
         "4",
         "4",
         "0.2"
        ],
        [
         "2",
         "4",
         "6",
         "9",
         "0.3"
        ],
        [
         "3",
         "5",
         "8",
         "16",
         "0.4"
        ],
        [
         "4",
         "6",
         "10",
         "25",
         "0.5"
        ],
        [
         "5",
         "7",
         "12",
         "36",
         "0.6"
        ],
        [
         "6",
         "8",
         "14",
         "49",
         "0.7"
        ],
        [
         "7",
         "9",
         "16",
         "64",
         "0.8"
        ],
        [
         "8",
         "10",
         "18",
         "81",
         "0.9"
        ],
        [
         "9",
         "11",
         "20",
         "100",
         "1.0"
        ],
        [
         "10",
         "12",
         "22",
         "121",
         "1.1"
        ],
        [
         "11",
         "13",
         "24",
         "144",
         "1.2"
        ],
        [
         "12",
         "14",
         "26",
         "169",
         "1.3"
        ],
        [
         "13",
         "15",
         "28",
         "196",
         "1.4"
        ],
        [
         "14",
         "16",
         "30",
         "225",
         "1.5"
        ],
        [
         "15",
         "17",
         "32",
         "256",
         "1.6"
        ],
        [
         "16",
         "18",
         "34",
         "289",
         "1.7"
        ],
        [
         "17",
         "19",
         "36",
         "324",
         "1.8"
        ],
        [
         "18",
         "20",
         "38",
         "361",
         "1.9"
        ],
        [
         "19",
         "21",
         "40",
         "400",
         "2.0"
        ],
        [
         "20",
         "22",
         "42",
         "441",
         "2.1"
        ],
        [
         "21",
         "23",
         "44",
         "484",
         "2.2"
        ],
        [
         "22",
         "24",
         "46",
         "529",
         "2.3"
        ],
        [
         "23",
         "25",
         "48",
         "576",
         "2.4"
        ],
        [
         "24",
         "26",
         "50",
         "625",
         "2.5"
        ],
        [
         "25",
         "27",
         "52",
         "676",
         "2.6"
        ],
        [
         "26",
         "28",
         "54",
         "729",
         "2.7"
        ],
        [
         "27",
         "29",
         "56",
         "784",
         "2.8"
        ],
        [
         "28",
         "30",
         "58",
         "841",
         "2.9"
        ],
        [
         "29",
         "31",
         "60",
         "900",
         "3.0"
        ],
        [
         "30",
         "32",
         "62",
         "961",
         "3.1"
        ],
        [
         "31",
         "33",
         "64",
         "1024",
         "3.2"
        ],
        [
         "32",
         "34",
         "66",
         "1089",
         "3.3"
        ],
        [
         "33",
         "35",
         "68",
         "1156",
         "3.4"
        ],
        [
         "34",
         "36",
         "70",
         "1225",
         "3.5"
        ],
        [
         "35",
         "37",
         "72",
         "1296",
         "3.6"
        ],
        [
         "36",
         "38",
         "74",
         "1369",
         "3.7"
        ],
        [
         "37",
         "39",
         "76",
         "1444",
         "3.8"
        ],
        [
         "38",
         "40",
         "78",
         "1521",
         "3.9"
        ],
        [
         "39",
         "41",
         "80",
         "1600",
         "4.0"
        ],
        [
         "40",
         "42",
         "82",
         "1681",
         "4.1"
        ],
        [
         "41",
         "43",
         "84",
         "1764",
         "4.2"
        ],
        [
         "42",
         "44",
         "86",
         "1849",
         "4.3"
        ],
        [
         "43",
         "45",
         "88",
         "1936",
         "4.4"
        ],
        [
         "44",
         "46",
         "90",
         "2025",
         "4.5"
        ],
        [
         "45",
         "47",
         "92",
         "2116",
         "4.6"
        ],
        [
         "46",
         "48",
         "94",
         "2209",
         "4.7"
        ],
        [
         "47",
         "49",
         "96",
         "2304",
         "4.8"
        ],
        [
         "48",
         "50",
         "98",
         "2401",
         "4.9"
        ],
        [
         "49",
         "51",
         "100",
         "2500",
         "5.0"
        ]
       ],
       "shape": {
        "columns": 4,
        "rows": 999
       }
      },
      "text/html": [
       "<div>\n",
       "<style scoped>\n",
       "    .dataframe tbody tr th:only-of-type {\n",
       "        vertical-align: middle;\n",
       "    }\n",
       "\n",
       "    .dataframe tbody tr th {\n",
       "        vertical-align: top;\n",
       "    }\n",
       "\n",
       "    .dataframe thead th {\n",
       "        text-align: right;\n",
       "    }\n",
       "</style>\n",
       "<table border=\"1\" class=\"dataframe\">\n",
       "  <thead>\n",
       "    <tr style=\"text-align: right;\">\n",
       "      <th></th>\n",
       "      <th>1</th>\n",
       "      <th>0</th>\n",
       "      <th>0.1</th>\n",
       "      <th>0.0</th>\n",
       "    </tr>\n",
       "  </thead>\n",
       "  <tbody>\n",
       "    <tr>\n",
       "      <th>0</th>\n",
       "      <td>2</td>\n",
       "      <td>2</td>\n",
       "      <td>1</td>\n",
       "      <td>0.1</td>\n",
       "    </tr>\n",
       "    <tr>\n",
       "      <th>1</th>\n",
       "      <td>3</td>\n",
       "      <td>4</td>\n",
       "      <td>4</td>\n",
       "      <td>0.2</td>\n",
       "    </tr>\n",
       "    <tr>\n",
       "      <th>2</th>\n",
       "      <td>4</td>\n",
       "      <td>6</td>\n",
       "      <td>9</td>\n",
       "      <td>0.3</td>\n",
       "    </tr>\n",
       "    <tr>\n",
       "      <th>3</th>\n",
       "      <td>5</td>\n",
       "      <td>8</td>\n",
       "      <td>16</td>\n",
       "      <td>0.4</td>\n",
       "    </tr>\n",
       "    <tr>\n",
       "      <th>4</th>\n",
       "      <td>6</td>\n",
       "      <td>10</td>\n",
       "      <td>25</td>\n",
       "      <td>0.5</td>\n",
       "    </tr>\n",
       "    <tr>\n",
       "      <th>...</th>\n",
       "      <td>...</td>\n",
       "      <td>...</td>\n",
       "      <td>...</td>\n",
       "      <td>...</td>\n",
       "    </tr>\n",
       "    <tr>\n",
       "      <th>994</th>\n",
       "      <td>996</td>\n",
       "      <td>1990</td>\n",
       "      <td>990025</td>\n",
       "      <td>99.5</td>\n",
       "    </tr>\n",
       "    <tr>\n",
       "      <th>995</th>\n",
       "      <td>997</td>\n",
       "      <td>1992</td>\n",
       "      <td>992016</td>\n",
       "      <td>99.6</td>\n",
       "    </tr>\n",
       "    <tr>\n",
       "      <th>996</th>\n",
       "      <td>998</td>\n",
       "      <td>1994</td>\n",
       "      <td>994009</td>\n",
       "      <td>99.7</td>\n",
       "    </tr>\n",
       "    <tr>\n",
       "      <th>997</th>\n",
       "      <td>999</td>\n",
       "      <td>1996</td>\n",
       "      <td>996004</td>\n",
       "      <td>99.8</td>\n",
       "    </tr>\n",
       "    <tr>\n",
       "      <th>998</th>\n",
       "      <td>1000</td>\n",
       "      <td>1998</td>\n",
       "      <td>998001</td>\n",
       "      <td>99.9</td>\n",
       "    </tr>\n",
       "  </tbody>\n",
       "</table>\n",
       "<p>999 rows × 4 columns</p>\n",
       "</div>"
      ],
      "text/plain": [
       "        1     0     0.1   0.0\n",
       "0       2     2       1   0.1\n",
       "1       3     4       4   0.2\n",
       "2       4     6       9   0.3\n",
       "3       5     8      16   0.4\n",
       "4       6    10      25   0.5\n",
       "..    ...   ...     ...   ...\n",
       "994   996  1990  990025  99.5\n",
       "995   997  1992  992016  99.6\n",
       "996   998  1994  994009  99.7\n",
       "997   999  1996  996004  99.8\n",
       "998  1000  1998  998001  99.9\n",
       "\n",
       "[999 rows x 4 columns]"
      ]
     },
     "execution_count": 2,
     "metadata": {},
     "output_type": "execute_result"
    }
   ],
   "source": [
    "import pandas as pd\n",
    "df = pd.read_csv(\"my_file.csv\")\n",
    "df"
   ]
  },
  {
   "cell_type": "markdown",
   "id": "0a19a752",
   "metadata": {},
   "source": []
  }
 ],
 "metadata": {
  "kernelspec": {
   "display_name": "python101",
   "language": "python",
   "name": "python3"
  },
  "language_info": {
   "codemirror_mode": {
    "name": "ipython",
    "version": 3
   },
   "file_extension": ".py",
   "mimetype": "text/x-python",
   "name": "python",
   "nbconvert_exporter": "python",
   "pygments_lexer": "ipython3",
   "version": "3.10.18"
  }
 },
 "nbformat": 4,
 "nbformat_minor": 5
}
