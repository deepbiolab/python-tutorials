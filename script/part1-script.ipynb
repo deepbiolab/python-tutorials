{
 "cells": [
  {
   "cell_type": "markdown",
   "id": "8eab2af8",
   "metadata": {},
   "source": [
    "## 什么是脚本\n",
    "\n",
    "Python 是一种“脚本语言”。脚本，对应的英文是：script。一般人看到script这个英文单词，或许想到的更多的是：电影的剧本，就是一段段的脚本，所组成的。电影剧本的脚本，决定了电影中的人和物，都做哪些事情，怎么做。而计算机中的脚本，决定了：计算机中的操作系统和各种软件工具，要做哪些事情，以及具体怎么做。\n",
    "\n",
    "![img](assets/download.jpeg)\n",
    "\n",
    "## 脚本 vs 程序\n",
    "\n",
    "你可能想要了解脚本与一般程序的区别是什么。\n",
    "\n",
    "脚本与一般程序的主要区别在于是否编译。相对于程序而言，脚本更加随性。写完了脚本，直接就可以在某种具有解释功能的环境中运行。（我们将会在本课学习如何写和运行 Python 脚本。）\n",
    "\n",
    "而非脚本语言（编译语言），比如 C、Java 语言。我们需要通过编译（Compile）和链接（link）等步骤，生成可执行文件。然后通过可执行文件在计算机上运行。\n",
    "\n",
    "![img](assets/code-script.png)\n",
    "\n",
    "## 脚本编写\n",
    "\n",
    "- Python 安装和环境设置\n",
    "- 运行和修改 Python 脚本\n",
    "- 与用户输入交互\n",
    "- 处理异常\n",
    "- 读写文件\n",
    "- 导入本地、标准和第三方模块\n",
    "- 在解释器中进行实验"
   ]
  },
  {
   "cell_type": "markdown",
   "id": "5832d389",
   "metadata": {},
   "source": [
    "## 运行 Python 脚本！!\n",
    "\n",
    "1. 如果你还没有为这门课程创建一个目录的话，建议创建一个目录。\n",
    "2. 打开终端并使用 cd 命令转到包含所下载文件的目录。\n",
    "3. 现在你已经位于该文件所在的目录，可以运行该文件了，方法是输入 `python first_script.py`，然后按下 Enter 键。\n",
    "\n",
    "如果你看到终端输出了以下消息，则表明你成功地运行了脚本：\n",
    "\n",
    "```\n",
    "Congratulations on running this script!!\n",
    "```"
   ]
  },
  {
   "cell_type": "code",
   "execution_count": 1,
   "id": "06485627",
   "metadata": {},
   "outputs": [
    {
     "name": "stdout",
     "output_type": "stream",
     "text": [
      "Congratulations on running this script!!\n"
     ]
    }
   ],
   "source": [
    "print('Congratulations on running this script!!')"
   ]
  },
  {
   "cell_type": "markdown",
   "id": "9a265fee",
   "metadata": {},
   "source": [
    "## 自己编写脚本\n",
    "\n",
    "在文本编辑器中打开全新的空文件，命名该文件并将其保存到放置 Python 课程文件的文件夹中。将以下代码放入该文件里。\n",
    "\n",
    "```\n",
    "how_many_snakes = 1\n",
    "snake_string = \"\"\"\n",
    "Welcome to Python3!\n",
    "\n",
    "             ____\n",
    "            / . .\\\\\n",
    "            \\  ---<\n",
    "             \\  /\n",
    "   __________/ /\n",
    "-=:___________/\n",
    "\n",
    "<3, Tim\n",
    "\"\"\"\n",
    "\n",
    "\n",
    "print(snake_string * how_many_snakes)\n",
    "```\n",
    "\n"
   ]
  },
  {
   "cell_type": "code",
   "execution_count": 4,
   "id": "0bec73b2",
   "metadata": {},
   "outputs": [
    {
     "data": {
      "text/plain": [
       "'Tim'"
      ]
     },
     "execution_count": 4,
     "metadata": {},
     "output_type": "execute_result"
    }
   ],
   "source": [
    "input(\"Enter your name: \")"
   ]
  },
  {
   "cell_type": "markdown",
   "id": "dffb382f",
   "metadata": {},
   "source": [
    "## 在脚本中接受原始输入\n",
    "\n",
    "我们可以使用内置函数 `input` 获取用户的原始输入，该函数接受一个可选字符串参数，用于指定在要求用户输入时向用户显示的消息。\n",
    "\n",
    "```\n",
    "name = input(\"Enter your name: \")\n",
    "print(\"Hello there, {}!\".format(name.title()))\n",
    "```\n",
    "\n",
    "这段代码提示用户输入姓名，然后在问候语中使用该输入。`input` 函数获取用户输入的任何内容并将其存储为字符串。如果你想将输入解析为字符串之外的其他类型，例如整数（如以下示例所示），需要用新的类型封装结果并从字符串转换为该类型。\n",
    "\n",
    "```\n",
    "num = int(input(\"Enter an integer\"))\n",
    "print(\"hello\" * num)\n",
    "```\n",
    "\n",
    "我们还可以使用内置函数 `eval` 将用户输入解析为 Python 表达式。该函数会将字符串评估为一行 Python 代码。\n",
    "\n",
    "```\n",
    "result = eval(input(\"Enter an expression: \"))\n",
    "print(result)\n",
    "```\n",
    "\n",
    "如果用户输入 `2 * 3`，输出为 `6`。"
   ]
  },
  {
   "cell_type": "code",
   "execution_count": null,
   "id": "28c69be1",
   "metadata": {},
   "outputs": [],
   "source": []
  },
  {
   "cell_type": "markdown",
   "id": "ada173ec",
   "metadata": {},
   "source": [
    "## 练习：生成消息\n",
    "\n",
    "假设你是一名老师，需要向每位学生发一条消息，提醒他们未交的作业和分数是多少。你知道每名学生的姓名，没交的作业份数和分数，这些数据保存在了电子表格中，你只需将这些输入插入你想到的以下消息中即可：\n",
    "\n",
    "> Hi **[insert student name]**,\n",
    "\n",
    "> This is a reminder that you have **[insert number of missing assignments]** assignments left to submit before you can graduate. Your current grade is **[insert current grade]** and can increase to **[insert potential grade]** if you submit all assignments before the due date.\n",
    "\n",
    "你可以将此消息复制粘贴后发送给每位学生，并且每次手动插入相应的值。但是你要写一个程序来帮助你完成这一流程。\n",
    "\n",
    "写一个完成以下操作的脚本：\n",
    "\n",
    "1. 请求用户输入三次。一次是名字列表，一次是未交作业数量列表，一次是分数列表。使用该输入创建 `names`、`assignments` 和 `grades` 列表。\n",
    "2. 使用循环为每个学生输出一条信息并包含正确的值。潜在分数是 2 乘以未交作业数加上当前分数。\n"
   ]
  },
  {
   "cell_type": "code",
   "execution_count": null,
   "id": "31e84a73",
   "metadata": {},
   "outputs": [],
   "source": []
  },
  {
   "cell_type": "markdown",
   "id": "1d096037",
   "metadata": {},
   "source": []
  }
 ],
 "metadata": {
  "kernelspec": {
   "display_name": "python101",
   "language": "python",
   "name": "python3"
  },
  "language_info": {
   "codemirror_mode": {
    "name": "ipython",
    "version": 3
   },
   "file_extension": ".py",
   "mimetype": "text/x-python",
   "name": "python",
   "nbconvert_exporter": "python",
   "pygments_lexer": "ipython3",
   "version": "3.10.18"
  }
 },
 "nbformat": 4,
 "nbformat_minor": 5
}
