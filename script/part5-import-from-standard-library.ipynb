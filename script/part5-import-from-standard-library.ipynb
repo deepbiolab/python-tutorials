{
 "cells": [
  {
   "cell_type": "markdown",
   "id": "994d26f9",
   "metadata": {},
   "source": [
    "## 标准库\n",
    "\n",
    "你可以在 [Python 一周模块(opens in a new tab)](https://pymotw.com/3/)博客中发现新的模块。"
   ]
  },
  {
   "cell_type": "markdown",
   "id": "51c25fbd",
   "metadata": {},
   "source": [
    "## 练习：计算指数\n",
    "\n",
    "该你来导入并使用 `math` 模块了。使用 `math` 模块计算 `e` 的 3 次幂，然后 `print` 答案。\n",
    "\n",
    "请参阅 [math 模块的文档(opens in a new tab)](https://docs.python.org/3.6/library/math.html?highlight=math module#module-math)，找到你需要的函数！"
   ]
  },
  {
   "cell_type": "code",
   "execution_count": null,
   "id": "374790c1",
   "metadata": {},
   "outputs": [],
   "source": []
  },
  {
   "cell_type": "markdown",
   "id": "accc8142",
   "metadata": {},
   "source": [
    "## 练习：密码生成器\n",
    "\n",
    "写一个叫做 `generate_password` 的函数，该函数会从提供的单词文件中随机选择三个单词，并将它们连接成一个字符串。我们已经在起始代码中提供了从文件中读取数据的代码，你需要利用这些部分构建一个密码。"
   ]
  },
  {
   "cell_type": "markdown",
   "id": "ae1c9cba",
   "metadata": {},
   "source": []
  },
  {
   "cell_type": "markdown",
   "id": "3f173d8d",
   "metadata": {},
   "source": [
    "## 探索标准库\n",
    "\n",
    "在下面的练习中，请输入解决每个问题的模块名称。注意，大小写很重要！标准库中的每个模块都是全小写形式。[你可以在此处浏览库文档(opens in a new tab)](https://docs.python.org/3/library/)。"
   ]
  },
  {
   "cell_type": "markdown",
   "id": "bdbad80a",
   "metadata": {},
   "source": [
    "(1) 哪个模块可以告诉你当前时间和日期？"
   ]
  },
  {
   "cell_type": "markdown",
   "id": "e941f385",
   "metadata": {},
   "source": [
    "(2) 哪个模块具有更改当前工作目录的方法？"
   ]
  },
  {
   "cell_type": "markdown",
   "id": "578efae2",
   "metadata": {},
   "source": [
    "(3)\n",
    "哪个模块可以将逗号分隔 (.csv) 文件中的每行数据读取到 Python 中？"
   ]
  },
  {
   "cell_type": "markdown",
   "id": "1dea427e",
   "metadata": {},
   "source": [
    "(4)\n",
    "哪个模块可以帮助我们从 zip 文件中提取所有文件？"
   ]
  },
  {
   "cell_type": "markdown",
   "id": "5fc8605f",
   "metadata": {},
   "source": [
    "(5)\n",
    "哪个模块可以显示代码的运行时间？"
   ]
  },
  {
   "cell_type": "code",
   "execution_count": null,
   "id": "eff1732a",
   "metadata": {},
   "outputs": [],
   "source": []
  },
  {
   "cell_type": "markdown",
   "id": "5dc95bd2",
   "metadata": {},
   "source": [
    "## 推荐模块\n",
    "\n",
    "Python 标准库包含大量模块！为了帮助你熟悉那些实用的模块，在下面筛选了一些我们推荐的 Python 标准库模块并解释为何我们喜欢使用它们！\n",
    "\n",
    "- [`collections`(opens in a new tab)](https://docs.python.org/3/library/collections.html)：常见数据类型的实用扩展，包括 `OrderedDict`、`defaultdict` 和 `namedtuple`\n",
    "- [`random`(opens in a new tab)](https://docs.python.org/3/library/random.html)：生成假随机数字，随机打乱序列并选择随机项\n",
    "- [`string`(opens in a new tab)](https://docs.python.org/3/library/string.html)：关于字符串的更多函数。此模块还包括实用的字母集合，例如 `string.digits`（包含所有字符都是有效数字的字符串）。\n",
    "- [`math`(opens in a new tab)](https://docs.python.org/3/library/math.html)：一些标准数学函数\n",
    "- [`os`(opens in a new tab)](https://docs.python.org/3/library/os.html)：与操作系统交互\n",
    "- [`os.path`(opens in a new tab)](https://docs.python.org/3/library/os.path.html)：`os` 的子模块，用于操纵路径名称\n",
    "- [`json`(opens in a new tab)](https://docs.python.org/3/library/json.html)：适用于读写 json 文件（面向网络开发）\n",
    "\n"
   ]
  },
  {
   "cell_type": "markdown",
   "id": "60ec3e02",
   "metadata": {},
   "source": [
    "## 导入模块技巧\n",
    "\n",
    "还有一些在不同情形下很有用的其他形式的 `import` 语句。\n",
    "\n",
    "1. 要从模块中导入单个函数或类：\n",
    "\n",
    "```\n",
    "from module_name import object_name\n",
    "```\n",
    "\n",
    "1. 要从模块中导入多个单个对象：\n",
    "\n",
    "```\n",
    "from module_name import first_object, second_object\n",
    "```\n",
    "\n",
    "1. 要重命名模块：\n",
    "\n",
    "```\n",
    "import module_name as new_name\n",
    "```\n",
    "\n",
    "1. 要从模块中导入对象并重命名：\n",
    "\n",
    "```\n",
    "from module_name import object_name as new_name\n",
    "```\n",
    "\n",
    "1. 要从模块中单个地导入所有对象（请勿这么做）：\n",
    "\n",
    "```\n",
    "from module_name import *\n",
    "```\n",
    "\n",
    "1. 如果你真的想使用模块中的所有对象，请使用标准导入 module_name 语句并使用点记法访问每个对象。\n",
    "\n",
    "```\n",
    "import module_name\n",
    "```\n",
    "\n"
   ]
  },
  {
   "cell_type": "markdown",
   "id": "a593fb65",
   "metadata": {},
   "source": [
    "## 模块、软件包和名称\n",
    "\n",
    "为了更好地管理代码，Standard 标准库中的模块被拆分成了子模块并包含在软件包中。__软件包__是一个包含子模块的模块。子模块使用普通的点记法指定。\n",
    "\n",
    "子模块的指定方式是软件包名称、点，然后是子模块名称。你可以如下所示地导入子模块。\n",
    "\n",
    "```\n",
    "import package_name.submodule_name\n",
    "```\n",
    "\n"
   ]
  },
  {
   "cell_type": "code",
   "execution_count": null,
   "id": "20a748ea",
   "metadata": {},
   "outputs": [],
   "source": []
  },
  {
   "cell_type": "markdown",
   "id": "c4824a18",
   "metadata": {},
   "source": [
    "## 练习：导入模块技巧\n",
    "\n",
    "在此练习中，你将使用不同的方法从 `random` 模块中导入并使用 `random.randint()` 函数。你的任务是将 `import` 语句与调用函数本身的方式相匹配。\n",
    "\n",
    "\n",
    "\n",
    "`import random`\n",
    "\n",
    "`from random import randint`\n",
    "\n",
    "`import random as rd`\n",
    "\n",
    "`from random import randint as rint`\n",
    "\n",
    "`from random import *`\n",
    "\n"
   ]
  },
  {
   "cell_type": "markdown",
   "id": "417069bd",
   "metadata": {},
   "source": []
  }
 ],
 "metadata": {
  "kernelspec": {
   "display_name": "python101",
   "language": "python",
   "name": "python3"
  },
  "language_info": {
   "name": "python",
   "version": "3.10.18"
  }
 },
 "nbformat": 4,
 "nbformat_minor": 5
}
